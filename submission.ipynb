{
 "cells": [
  {
   "cell_type": "markdown",
   "metadata": {},
   "source": [
    "## **TDI DATA SCIENCE TRACK WEEK 6: NumPy**"
   ]
  },
  {
   "cell_type": "code",
   "execution_count": 1,
   "metadata": {},
   "outputs": [],
   "source": [
    "import numpy as np"
   ]
  },
  {
   "cell_type": "markdown",
   "metadata": {},
   "source": [
    "### **Section 1: Basic Questions**\n",
    "**1. NumPy Array Creation and Manipulation**"
   ]
  },
  {
   "cell_type": "markdown",
   "metadata": {},
   "source": [
    "**a)\tCreate a 1D array of numbers from 1 to 10.**"
   ]
  },
  {
   "cell_type": "code",
   "execution_count": 2,
   "metadata": {},
   "outputs": [
    {
     "name": "stdout",
     "output_type": "stream",
     "text": [
      "[ 1  2  3  4  5  6  7  8  9 10]\n"
     ]
    }
   ],
   "source": [
    "basic_array = np.array(range(1, 11)) # use range function to generate numbers from 1 to 10 then convert to an array\n",
    "print(basic_array)"
   ]
  },
  {
   "cell_type": "markdown",
   "metadata": {},
   "source": [
    "**b)\tReshape the array into a 2 x 5 matrix.**"
   ]
  },
  {
   "cell_type": "code",
   "execution_count": 3,
   "metadata": {},
   "outputs": [
    {
     "name": "stdout",
     "output_type": "stream",
     "text": [
      "[[ 1  2  3  4  5]\n",
      " [ 6  7  8  9 10]]\n"
     ]
    }
   ],
   "source": [
    "reshaped = basic_array.reshape(2, 5)\n",
    "print(reshaped)"
   ]
  },
  {
   "cell_type": "markdown",
   "metadata": {},
   "source": [
    "**c)\tFind the element located in the second row, third column of the matrix.**"
   ]
  },
  {
   "cell_type": "code",
   "execution_count": 4,
   "metadata": {},
   "outputs": [
    {
     "name": "stdout",
     "output_type": "stream",
     "text": [
      "8\n"
     ]
    }
   ],
   "source": [
    "print(reshaped[1, 2])"
   ]
  },
  {
   "cell_type": "markdown",
   "metadata": {},
   "source": [
    "**2. Basic Array Operations**"
   ]
  },
  {
   "cell_type": "markdown",
   "metadata": {},
   "source": [
    "**a)\tCreate two NumPy arrays: array_1 = [10, 20, 30] and array_2 = [1, 2, 3].**"
   ]
  },
  {
   "cell_type": "code",
   "execution_count": 5,
   "metadata": {},
   "outputs": [
    {
     "name": "stdout",
     "output_type": "stream",
     "text": [
      "array_1: [10 20 30]\n",
      "array_2: [1 2 3]\n"
     ]
    }
   ],
   "source": [
    "array_1 = np.array(range(10, 31, 10))\n",
    "array_2 = np.array(range(1, 4, 1))\n",
    "\n",
    "print(f\"array_1: {array_1}\")\n",
    "print(f\"array_2: {array_2}\")\n"
   ]
  },
  {
   "cell_type": "markdown",
   "metadata": {},
   "source": [
    "**b)\tPerform element-wise addition, subtraction, and multiplication of these arrays.**"
   ]
  },
  {
   "cell_type": "code",
   "execution_count": 6,
   "metadata": {},
   "outputs": [
    {
     "name": "stdout",
     "output_type": "stream",
     "text": [
      "Adding the two arrays created above will result to a new array: [11 22 33]\n",
      "Subtracting the two arrays will result to a new array: [ 9 18 27]\n",
      "Multiplying the two arrays will result to a new array: [10 40 90]\n"
     ]
    }
   ],
   "source": [
    "print(f\"Adding the two arrays created above will result to a new array: {array_1 + array_2}\")\n",
    "print(f\"Subtracting the two arrays will result to a new array: {array_1 - array_2}\")\n",
    "print(f\"Multiplying the two arrays will result to a new array: {array_1 * array_2}\")"
   ]
  },
  {
   "cell_type": "markdown",
   "metadata": {},
   "source": [
    "**c)\tCalculate the sum, mean, and standard deviation of the resulting array after element-wise multiplication.**"
   ]
  },
  {
   "cell_type": "code",
   "execution_count": 7,
   "metadata": {},
   "outputs": [
    {
     "name": "stdout",
     "output_type": "stream",
     "text": [
      "Sum of the resulting arrays:\n",
      "> For the addition operation is: 66\n",
      "> For the subtraction operation is: 54\n",
      "> For the multiplication operation is: 140\n"
     ]
    }
   ],
   "source": [
    "print(\"Sum of the resulting arrays:\")\n",
    "print(f\"> For the addition operation is: {(array_1 + array_2).sum()}\")\n",
    "print(f\"> For the subtraction operation is: {(array_1 - array_2).sum()}\")\n",
    "print(f\"> For the multiplication operation is: {(array_1 * array_2).sum()}\")"
   ]
  },
  {
   "cell_type": "code",
   "execution_count": 8,
   "metadata": {},
   "outputs": [
    {
     "name": "stdout",
     "output_type": "stream",
     "text": [
      "Mean of the resulting arrays:\n",
      "> For the addition operation is: 22.0\n",
      "> For the subtraction operation is: 18.0\n",
      "> For the multiplication operation is: 46.67\n"
     ]
    }
   ],
   "source": [
    "print(\"Mean of the resulting arrays:\")\n",
    "print(f\"> For the addition operation is: {(array_1 + array_2).mean()}\")\n",
    "print(f\"> For the subtraction operation is: {(array_1 - array_2).mean()}\")\n",
    "print(f\"> For the multiplication operation is: {round((array_1 * array_2).mean(), 2)}\")"
   ]
  },
  {
   "cell_type": "code",
   "execution_count": 9,
   "metadata": {},
   "outputs": [
    {
     "name": "stdout",
     "output_type": "stream",
     "text": [
      "Standard Deviation of the resulting arrays:\n",
      "> For the addition operation is: 8.98\n",
      "> For the subtraction operation is: 7.35\n",
      "> For the multiplication operation is: 33.0\n"
     ]
    }
   ],
   "source": [
    "print(\"Standard Deviation of the resulting arrays:\")\n",
    "print(f\"> For the addition operation is: {round((array_1 + array_2).std(), 2)}\")\n",
    "print(f\"> For the subtraction operation is: {round((array_1 - array_2).std(), 2)}\")\n",
    "print(f\"> For the multiplication operation is: {round((array_1 * array_2).std(), 2)}\")"
   ]
  },
  {
   "cell_type": "markdown",
   "metadata": {},
   "source": [
    "3. Broadcasting and Reshaping"
   ]
  },
  {
   "cell_type": "markdown",
   "metadata": {},
   "source": [
    "**a)\tCreate a 1D array of numbers from 0 to 15. Reshape it into a 3x5 matrix.**"
   ]
  },
  {
   "cell_type": "code",
   "execution_count": 10,
   "metadata": {},
   "outputs": [
    {
     "name": "stdout",
     "output_type": "stream",
     "text": [
      "[[ 0  1  2  3  4]\n",
      " [ 5  6  7  8  9]\n",
      " [10 11 12 13 14]]\n"
     ]
    }
   ],
   "source": [
    "my_array = np.array(range(0,15)).reshape(3,5)\n",
    "print(my_array)"
   ]
  },
  {
   "cell_type": "markdown",
   "metadata": {},
   "source": [
    "**b)\tAdd 10 to each element in the matrix using broadcasting.**"
   ]
  },
  {
   "cell_type": "code",
   "execution_count": 11,
   "metadata": {},
   "outputs": [
    {
     "name": "stdout",
     "output_type": "stream",
     "text": [
      "[[10 11 12 13 14]\n",
      " [15 16 17 18 19]\n",
      " [20 21 22 23 24]]\n"
     ]
    }
   ],
   "source": [
    "my_array2 = my_array + 10\n",
    "print(my_array2)"
   ]
  },
  {
   "cell_type": "markdown",
   "metadata": {},
   "source": [
    "**c)\tCreate another 3x5 matrix and multiply the two matrices using broadcasting.**"
   ]
  },
  {
   "cell_type": "code",
   "execution_count": 12,
   "metadata": {},
   "outputs": [
    {
     "name": "stdout",
     "output_type": "stream",
     "text": [
      "[[  0  11  24  39  56]\n",
      " [ 75  96 119 144 171]\n",
      " [200 231 264 299 336]]\n"
     ]
    }
   ],
   "source": [
    "print(my_array * my_array2)"
   ]
  },
  {
   "cell_type": "markdown",
   "metadata": {},
   "source": [
    "**4. Logical Operations and Boolean Indexing**"
   ]
  },
  {
   "cell_type": "markdown",
   "metadata": {},
   "source": [
    "**a)\tCreate an array with values: [15, 22, 33, 41, 50, 65, 72].**"
   ]
  },
  {
   "cell_type": "code",
   "execution_count": 13,
   "metadata": {},
   "outputs": [
    {
     "name": "stdout",
     "output_type": "stream",
     "text": [
      "[15 22 33 41 50 65 72]\n"
     ]
    }
   ],
   "source": [
    "values = np.array([15, 22, 33, 41, 50, 65, 72])\n",
    "print(values)"
   ]
  },
  {
   "cell_type": "markdown",
   "metadata": {},
   "source": [
    "**b)\tUse boolean indexing to filter out values that are greater than 40.**\n"
   ]
  },
  {
   "cell_type": "code",
   "execution_count": 14,
   "metadata": {},
   "outputs": [
    {
     "name": "stdout",
     "output_type": "stream",
     "text": [
      "There are the values greater than 40 in the list:\n",
      "[41 50 65 72]\n"
     ]
    }
   ],
   "source": [
    "print(\"There are the values greater than 40 in the list:\")\n",
    "print(values[values > 40])"
   ]
  },
  {
   "cell_type": "markdown",
   "metadata": {},
   "source": [
    "**c)\tReplace all values greater than 40 with the value 0 in the original array.**"
   ]
  },
  {
   "cell_type": "code",
   "execution_count": 15,
   "metadata": {},
   "outputs": [
    {
     "name": "stdout",
     "output_type": "stream",
     "text": [
      "[15 22 33  0  0  0  0]\n"
     ]
    }
   ],
   "source": [
    "values[values > 40] = 0\n",
    "print(values)"
   ]
  },
  {
   "cell_type": "markdown",
   "metadata": {},
   "source": [
    "### **Section 2: Advanced Questions**\n",
    "**1. Matrix Operations**"
   ]
  },
  {
   "cell_type": "markdown",
   "metadata": {},
   "source": [
    "**a)\tCreate a 3x3 matrix using the values [[1, 2, 3], [4, 5, 6], [7, 8, 9]].**\n"
   ]
  },
  {
   "cell_type": "code",
   "execution_count": 16,
   "metadata": {},
   "outputs": [
    {
     "name": "stdout",
     "output_type": "stream",
     "text": [
      "[[1 2 3]\n",
      " [4 5 6]\n",
      " [7 8 9]]\n"
     ]
    }
   ],
   "source": [
    "advanced = np.array([[1, 2, 3], [4, 5, 6], [7, 8, 9]])\n",
    "print(advanced)"
   ]
  },
  {
   "cell_type": "markdown",
   "metadata": {},
   "source": [
    "**b)\tFind the transpose of the matrix.**"
   ]
  },
  {
   "cell_type": "code",
   "execution_count": 17,
   "metadata": {},
   "outputs": [
    {
     "name": "stdout",
     "output_type": "stream",
     "text": [
      "[[1 4 7]\n",
      " [2 5 8]\n",
      " [3 6 9]]\n"
     ]
    }
   ],
   "source": [
    "transposed = advanced.T\n",
    "print(transposed)"
   ]
  },
  {
   "cell_type": "markdown",
   "metadata": {},
   "source": [
    "**c)\tPerform matrix multiplication with another 3x3 matrix of your choice using np.dot().**"
   ]
  },
  {
   "cell_type": "code",
   "execution_count": 18,
   "metadata": {},
   "outputs": [
    {
     "name": "stdout",
     "output_type": "stream",
     "text": [
      "[[ 14  32  50]\n",
      " [ 32  77 122]\n",
      " [ 50 122 194]]\n"
     ]
    }
   ],
   "source": [
    "using_dot = np.dot(advanced, transposed)\n",
    "print(using_dot)"
   ]
  },
  {
   "cell_type": "markdown",
   "metadata": {},
   "source": [
    "**d)\tCalculate the inverse of the resulting matrix, if possible.**"
   ]
  },
  {
   "cell_type": "code",
   "execution_count": 19,
   "metadata": {},
   "outputs": [
    {
     "name": "stdout",
     "output_type": "stream",
     "text": [
      "[[ -15  -33  -51]\n",
      " [ -33  -78 -123]\n",
      " [ -51 -123 -195]]\n"
     ]
    }
   ],
   "source": [
    "inverse = using_dot^(-1)\n",
    "print(inverse)"
   ]
  },
  {
   "cell_type": "markdown",
   "metadata": {},
   "source": [
    "**2. Statistical Analysis**"
   ]
  },
  {
   "cell_type": "markdown",
   "metadata": {},
   "source": [
    "**a)\tCreate two arrays: array_x = [1, 3, 5, 7, 9] and array_y = [2, 4, 6, 8, 10].**"
   ]
  },
  {
   "cell_type": "code",
   "execution_count": 20,
   "metadata": {},
   "outputs": [],
   "source": [
    "array_x = np.array([1, 3, 5, 7, 9])\n",
    "array_y = np.array([2, 4, 6, 8, 10])"
   ]
  },
  {
   "cell_type": "markdown",
   "metadata": {},
   "source": [
    "**b)\tCompute the correlation coefficient between the two arrays using np.corrcoef().**"
   ]
  },
  {
   "cell_type": "code",
   "execution_count": 21,
   "metadata": {},
   "outputs": [
    {
     "name": "stdout",
     "output_type": "stream",
     "text": [
      "[[1. 1.]\n",
      " [1. 1.]]\n"
     ]
    }
   ],
   "source": [
    "print(np.corrcoef(array_x, array_y))"
   ]
  },
  {
   "cell_type": "markdown",
   "metadata": {},
   "source": [
    "**c)\tGenerate 1000 random numbers from a normal distribution and find the 95th percentile.**"
   ]
  },
  {
   "cell_type": "code",
   "execution_count": 22,
   "metadata": {},
   "outputs": [
    {
     "name": "stdout",
     "output_type": "stream",
     "text": [
      "15.0\n"
     ]
    }
   ],
   "source": [
    "generate = np.random.randint(15, 85, 1000)\n",
    "print(np.percentile(generate, 0.95))"
   ]
  },
  {
   "cell_type": "markdown",
   "metadata": {},
   "source": [
    "**3. Solving Linear Equations** <br>\n",
    "a) Solve the following system of equations using NumPy:<br>\n",
    "   2x + y = 10 <br>\n",
    "   x - y = 2 <br>\n",
    "Use matrix form to solve this using np.linalg.solve()."
   ]
  },
  {
   "cell_type": "code",
   "execution_count": 23,
   "metadata": {},
   "outputs": [
    {
     "name": "stdout",
     "output_type": "stream",
     "text": [
      "The solution of the system of equations:\n",
      "x=[4.], y=[2.]\n"
     ]
    }
   ],
   "source": [
    "A = np.array([[2, 1], [1, -1]])\n",
    "B = np.array([[10], [2]])\n",
    "solution = np.linalg.solve(A, B)\n",
    "print(\"The solution of the system of equations:\")\n",
    "print(f\"x={solution[0]}, y={solution[1]}\")"
   ]
  },
  {
   "cell_type": "markdown",
   "metadata": {},
   "source": [
    "**4. Fancy Indexing and Conditional Selection**"
   ]
  },
  {
   "cell_type": "markdown",
   "metadata": {},
   "source": [
    "**a)\tCreate an array: array = [25, 45, 15, 75, 35, 55, 85].**"
   ]
  },
  {
   "cell_type": "code",
   "execution_count": 24,
   "metadata": {},
   "outputs": [
    {
     "name": "stdout",
     "output_type": "stream",
     "text": [
      "[25 45 15 75 35 55 85]\n"
     ]
    }
   ],
   "source": [
    "fancy = np.array([25, 45, 15, 75, 35, 55, 85])\n",
    "print(fancy)"
   ]
  },
  {
   "cell_type": "markdown",
   "metadata": {},
   "source": [
    "**b)\tUse fancy indexing to rearrange the elements in descending order.**"
   ]
  },
  {
   "cell_type": "code",
   "execution_count": 25,
   "metadata": {},
   "outputs": [
    {
     "name": "stdout",
     "output_type": "stream",
     "text": [
      "[15 25 35 45 55 75 85]\n"
     ]
    }
   ],
   "source": [
    "print(fancy[[2, 0, 4, 1, -2, 3, -1]])"
   ]
  },
  {
   "cell_type": "markdown",
   "metadata": {},
   "source": [
    "**c)\tUse np.where() to replace all values greater than 50 with 100 and values less than or equal to 50 with 0.**\n"
   ]
  },
  {
   "cell_type": "code",
   "execution_count": 26,
   "metadata": {},
   "outputs": [
    {
     "name": "stdout",
     "output_type": "stream",
     "text": [
      "[  0   0   0 100   0 100 100]\n"
     ]
    }
   ],
   "source": [
    "print(np.where(fancy > 50, 100, 0))"
   ]
  },
  {
   "cell_type": "markdown",
   "metadata": {},
   "source": [
    "**5. Performance Comparison: NumPy vs. Python Lists**"
   ]
  },
  {
   "cell_type": "markdown",
   "metadata": {},
   "source": [
    "**a)\tCreate a Python list with 1 million elements and a NumPy array with the same number of elements.**"
   ]
  },
  {
   "cell_type": "code",
   "execution_count": 27,
   "metadata": {},
   "outputs": [],
   "source": [
    "python_list = (np.random.randint(5, 200, 1000000)).tolist()\n",
    "np_array = np.array(np.random.randint(5, 200, 1000000))"
   ]
  },
  {
   "cell_type": "markdown",
   "metadata": {},
   "source": [
    "**b)\tWrite a Python function that computes the sum of all elements in both the list and the NumPy array.**"
   ]
  },
  {
   "cell_type": "code",
   "execution_count": 28,
   "metadata": {},
   "outputs": [
    {
     "name": "stdout",
     "output_type": "stream",
     "text": [
      "Sum of Python list: 102068479\n",
      "Sum of NumPy array: 101919995\n"
     ]
    }
   ],
   "source": [
    "def sum(elements):\n",
    "    return np.sum(elements)\n",
    "\n",
    "# call the function\n",
    "x = print(f\"Sum of Python list: {sum(python_list)}\")\n",
    "print(f\"Sum of NumPy array: {sum(np_array)}\")"
   ]
  },
  {
   "cell_type": "markdown",
   "metadata": {},
   "source": [
    "**c)\tUse the timeit module to compare the time taken to sum the elements in both the list and the NumPy array. Report the time difference.**\n"
   ]
  },
  {
   "cell_type": "code",
   "execution_count": 29,
   "metadata": {},
   "outputs": [],
   "source": [
    "import timeit"
   ]
  },
  {
   "cell_type": "code",
   "execution_count": 30,
   "metadata": {},
   "outputs": [
    {
     "name": "stdout",
     "output_type": "stream",
     "text": [
      "The time taken to calculate the sum of the Python list is: 37.65937789995223 seconds\n"
     ]
    }
   ],
   "source": [
    "# define the code so it can be timedd\n",
    "def wrapper():\n",
    "    sum(python_list)\n",
    "\n",
    "\n",
    "python_time = timeit.timeit(stmt = wrapper, number = 100)\n",
    "print(f\"The time taken to calculate the sum of the Python list is: {python_time} seconds\")"
   ]
  },
  {
   "cell_type": "code",
   "execution_count": 31,
   "metadata": {},
   "outputs": [
    {
     "name": "stdout",
     "output_type": "stream",
     "text": [
      "The time taken to calculate the sum of the NumPy array is: 0.8927232000278309 seconds\n"
     ]
    }
   ],
   "source": [
    "# define the code so it can be timed\n",
    "def wrapper():\n",
    "    sum(np_array)\n",
    "\n",
    "\n",
    "numpy_time = timeit.timeit(stmt = wrapper, number = 100)\n",
    "print(f\"The time taken to calculate the sum of the NumPy array is: {numpy_time} seconds\")"
   ]
  },
  {
   "cell_type": "code",
   "execution_count": 32,
   "metadata": {},
   "outputs": [
    {
     "name": "stdout",
     "output_type": "stream",
     "text": [
      "The difference in processing the calculation 100 times for both data type is 36.7666546999244.\n",
      "This calculation validates the reason NumPy arrays are preferred to Python list in Data Science.\n"
     ]
    }
   ],
   "source": [
    "print(f\"The difference in processing the calculation 100 times for both data type is {python_time - numpy_time}.\")\n",
    "print(\"This calculation validates the reason NumPy arrays are preferred to Python list in Data Science.\")"
   ]
  }
 ],
 "metadata": {
  "kernelspec": {
   "display_name": "Python 3",
   "language": "python",
   "name": "python3"
  },
  "language_info": {
   "codemirror_mode": {
    "name": "ipython",
    "version": 3
   },
   "file_extension": ".py",
   "mimetype": "text/x-python",
   "name": "python",
   "nbconvert_exporter": "python",
   "pygments_lexer": "ipython3",
   "version": "3.12.4"
  }
 },
 "nbformat": 4,
 "nbformat_minor": 2
}
