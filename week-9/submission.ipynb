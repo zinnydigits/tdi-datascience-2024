{
 "cells": [
  {
   "cell_type": "code",
   "execution_count": 1,
   "metadata": {},
   "outputs": [],
   "source": [
    "import pandas as pd\n",
    "import numpy as np\n",
    "import string\n",
    "import nltk\n",
    "from nltk.corpus import wordnet\n",
    "from nltk.stem import WordNetLemmatizer\n",
    "from nltk.corpus import stopwords\n",
    "from sklearn.feature_extraction.text import TfidfVectorizer"
   ]
  },
  {
   "cell_type": "code",
   "execution_count": 2,
   "metadata": {},
   "outputs": [
    {
     "data": {
      "text/html": [
       "<div>\n",
       "<style scoped>\n",
       "    .dataframe tbody tr th:only-of-type {\n",
       "        vertical-align: middle;\n",
       "    }\n",
       "\n",
       "    .dataframe tbody tr th {\n",
       "        vertical-align: top;\n",
       "    }\n",
       "\n",
       "    .dataframe thead th {\n",
       "        text-align: right;\n",
       "    }\n",
       "</style>\n",
       "<table border=\"1\" class=\"dataframe\">\n",
       "  <thead>\n",
       "    <tr style=\"text-align: right;\">\n",
       "      <th></th>\n",
       "      <th>name</th>\n",
       "      <th>region</th>\n",
       "      <th>variety</th>\n",
       "      <th>rating</th>\n",
       "      <th>notes</th>\n",
       "    </tr>\n",
       "  </thead>\n",
       "  <tbody>\n",
       "    <tr>\n",
       "      <th>0</th>\n",
       "      <td>1000 Stories Bourbon Barrel Aged Batch Blue Ca...</td>\n",
       "      <td>Mendocino, California</td>\n",
       "      <td>Red Wine</td>\n",
       "      <td>91</td>\n",
       "      <td>This is a very special, limited release of 100...</td>\n",
       "    </tr>\n",
       "    <tr>\n",
       "      <th>1</th>\n",
       "      <td>1000 Stories Bourbon Barrel Aged Gold Rush Red...</td>\n",
       "      <td>California</td>\n",
       "      <td>Red Wine</td>\n",
       "      <td>89</td>\n",
       "      <td>The California Gold Rush was a period of coura...</td>\n",
       "    </tr>\n",
       "    <tr>\n",
       "      <th>2</th>\n",
       "      <td>1000 Stories Bourbon Barrel Aged Gold Rush Red...</td>\n",
       "      <td>California</td>\n",
       "      <td>Red Wine</td>\n",
       "      <td>90</td>\n",
       "      <td>The California Gold Rush was a period of coura...</td>\n",
       "    </tr>\n",
       "  </tbody>\n",
       "</table>\n",
       "</div>"
      ],
      "text/plain": [
       "                                                name                 region  \\\n",
       "0  1000 Stories Bourbon Barrel Aged Batch Blue Ca...  Mendocino, California   \n",
       "1  1000 Stories Bourbon Barrel Aged Gold Rush Red...             California   \n",
       "2  1000 Stories Bourbon Barrel Aged Gold Rush Red...             California   \n",
       "\n",
       "    variety  rating                                              notes  \n",
       "0  Red Wine      91  This is a very special, limited release of 100...  \n",
       "1  Red Wine      89  The California Gold Rush was a period of coura...  \n",
       "2  Red Wine      90  The California Gold Rush was a period of coura...  "
      ]
     },
     "execution_count": 2,
     "metadata": {},
     "output_type": "execute_result"
    }
   ],
   "source": [
    "df = pd.read_csv(\"wine-raitngs.csv\")\n",
    "df.head(3)"
   ]
  },
  {
   "cell_type": "code",
   "execution_count": 3,
   "metadata": {},
   "outputs": [
    {
     "data": {
      "text/plain": [
       "Index(['name', 'region', 'variety', 'rating', 'notes'], dtype='object')"
      ]
     },
     "execution_count": 3,
     "metadata": {},
     "output_type": "execute_result"
    }
   ],
   "source": [
    "df.columns"
   ]
  },
  {
   "cell_type": "code",
   "execution_count": 4,
   "metadata": {},
   "outputs": [
    {
     "data": {
      "text/plain": [
       "(32980, 5)"
      ]
     },
     "execution_count": 4,
     "metadata": {},
     "output_type": "execute_result"
    }
   ],
   "source": [
    "df.shape"
   ]
  },
  {
   "cell_type": "code",
   "execution_count": 5,
   "metadata": {},
   "outputs": [
    {
     "name": "stdout",
     "output_type": "stream",
     "text": [
      "<class 'pandas.core.frame.DataFrame'>\n",
      "RangeIndex: 32980 entries, 0 to 32979\n",
      "Data columns (total 5 columns):\n",
      " #   Column   Non-Null Count  Dtype \n",
      "---  ------   --------------  ----- \n",
      " 0   name     32980 non-null  object\n",
      " 1   region   32977 non-null  object\n",
      " 2   variety  32621 non-null  object\n",
      " 3   rating   32980 non-null  int64 \n",
      " 4   notes    32980 non-null  object\n",
      "dtypes: int64(1), object(4)\n",
      "memory usage: 1.3+ MB\n"
     ]
    }
   ],
   "source": [
    "df.info()"
   ]
  },
  {
   "cell_type": "markdown",
   "metadata": {},
   "source": [
    "###  **Section A: Data Cleaning**"
   ]
  },
  {
   "cell_type": "markdown",
   "metadata": {},
   "source": [
    "**1. Identify and remove any duplicate rows and missing values from the global wine quality dataset. <br>Store the cleaned dataset in a new dataframe named non_dm_data.**"
   ]
  },
  {
   "cell_type": "code",
   "execution_count": 6,
   "metadata": {},
   "outputs": [
    {
     "data": {
      "text/plain": [
       "(32402, 5)"
      ]
     },
     "execution_count": 6,
     "metadata": {},
     "output_type": "execute_result"
    }
   ],
   "source": [
    "# drop duplicates\n",
    "df.drop_duplicates(inplace= True)\n",
    "# drop missing values\n",
    "df.dropna(inplace = True)\n",
    "# assign df to a new dataframe\n",
    "non_dm_data = df\n",
    "non_dm_data.shape"
   ]
  },
  {
   "cell_type": "markdown",
   "metadata": {},
   "source": [
    "**2.\tThe \"Region\" column contains both country and city names. <br> Since you need to analyze wine quality by country, ensure that only country names are listed. <br>Replace any cities without a corresponding country name with the relevant country.**"
   ]
  },
  {
   "cell_type": "code",
   "execution_count": 7,
   "metadata": {},
   "outputs": [
    {
     "data": {
      "text/plain": [
       "array(['California', 'Spain', 'Washington', 'Chile', 'Australia',\n",
       "       'Zealand', 'Germany', 'Italy', 'France', 'Portugal', 'Oregon',\n",
       "       'Argentina', 'Greece', 'Africa', 'Austria', 'U.S.', 'China',\n",
       "       'Israel', 'Uruguay', 'England', 'Mexico', 'Lebanon', 'Hungary',\n",
       "       'Switzerland', 'Canada', 'Slovenia', 'Turkey'], dtype=object)"
      ]
     },
     "execution_count": 7,
     "metadata": {},
     "output_type": "execute_result"
    }
   ],
   "source": [
    "# pick the last string as this is the country name\n",
    "non_dm_data[\"region\"] = non_dm_data[\"region\"].str.split().str[-1]\n",
    "non_dm_data.region.unique()"
   ]
  },
  {
   "cell_type": "code",
   "execution_count": 8,
   "metadata": {},
   "outputs": [],
   "source": [
    "# some of the rows have just cities, replace this with corresponding country\n",
    "non_dm_data.replace({\"California\": \"U.S.\", \n",
    "                                \"Washington\": \"U.S.\", \n",
    "                                \"Oregon\": \"U.S.\",\n",
    "                                \"Africa\": \"South Africa\",\n",
    "                                \"Zealand\": \"New Zealand\"}, inplace = True)"
   ]
  },
  {
   "cell_type": "code",
   "execution_count": 9,
   "metadata": {},
   "outputs": [
    {
     "data": {
      "text/plain": [
       "array(['Argentina', 'Australia', 'Austria', 'Canada', 'Chile', 'China',\n",
       "       'England', 'France', 'Germany', 'Greece', 'Hungary', 'Israel',\n",
       "       'Italy', 'Lebanon', 'Mexico', 'New Zealand', 'Portugal',\n",
       "       'Slovenia', 'South Africa', 'Spain', 'Switzerland', 'Turkey',\n",
       "       'U.S.', 'Uruguay'], dtype=object)"
      ]
     },
     "execution_count": 9,
     "metadata": {},
     "output_type": "execute_result"
    }
   ],
   "source": [
    "non_dm_data.region.sort_values().unique()"
   ]
  },
  {
   "cell_type": "markdown",
   "metadata": {},
   "source": [
    "**3. Create a table showing the percentage distribution of wine varieties, rounded to one decimal place.**"
   ]
  },
  {
   "cell_type": "code",
   "execution_count": 10,
   "metadata": {},
   "outputs": [
    {
     "data": {
      "text/plain": [
       "variety\n",
       "Red Wine                 72.0\n",
       "White Wine               23.0\n",
       "Sparkling & Champagne     2.6\n",
       "Pink and Rosé             1.5\n",
       "Collectible               0.7\n",
       "Green Wine                0.1\n",
       "Boutique                  0.1\n",
       "Screw Cap                 0.0\n",
       "Name: proportion, dtype: float64"
      ]
     },
     "execution_count": 10,
     "metadata": {},
     "output_type": "execute_result"
    }
   ],
   "source": [
    "(non_dm_data[\"variety\"].value_counts(normalize= True) * 100).round(1)"
   ]
  },
  {
   "cell_type": "markdown",
   "metadata": {},
   "source": [
    "**4. Based on wine ratings, classify the wines into the following categories:**\n",
    "- 'Good' for ratings between 85-89\n",
    "- 'Outstanding' for ratings between 90-94\n",
    "- 'Exceptional' for ratings between 95-100 <br>\n",
    "**Create a new column named \"wine_quality\" to store these categories.**\n"
   ]
  },
  {
   "cell_type": "code",
   "execution_count": 11,
   "metadata": {},
   "outputs": [],
   "source": [
    "conditions = [non_dm_data.rating >= 95, (non_dm_data.rating >= 90) & (non_dm_data.rating <= 94)]\n",
    "\n",
    "choices = [\"Exceptional\", \"Outstanding\"]\n",
    "\n",
    "non_dm_data[\"wine_quality\"] = np.select(conditions, choices, default = \"Good\")"
   ]
  },
  {
   "cell_type": "markdown",
   "metadata": {},
   "source": [
    "### **Section B: Text Preprocessing**"
   ]
  },
  {
   "cell_type": "markdown",
   "metadata": {},
   "source": [
    "**Scenario**: You are a data scientist working with text data containing noise, making it difficult to analyze. <br>The \"notes\" column in your dataset has inconsistencies such as mixed cases, punctuation, numbers, and irrelevant words. <br>Using your NLP expertise, you need to clean and preprocess the text. <br>\n",
    "**Tasks:**"
   ]
  },
  {
   "cell_type": "markdown",
   "metadata": {},
   "source": [
    "**1.\tConvert all text to lowercase for uniformity.**"
   ]
  },
  {
   "cell_type": "code",
   "execution_count": 12,
   "metadata": {},
   "outputs": [],
   "source": [
    "non_dm_data[\"notes\"] = non_dm_data[\"notes\"].str.lower()"
   ]
  },
  {
   "cell_type": "markdown",
   "metadata": {},
   "source": [
    "**2.\tRemove numbers that do not contribute to meaningful analysis.**"
   ]
  },
  {
   "cell_type": "code",
   "execution_count": 13,
   "metadata": {},
   "outputs": [
    {
     "data": {
      "text/plain": [
       "0        this is a very special, limited release of   s...\n",
       "1        the california gold rush was a period of coura...\n",
       "2        the california gold rush was a period of coura...\n",
       "3        the wine has a deep, rich purple color. an int...\n",
       "4        batch #  is the first release of the   vintage...\n",
       "                               ...                        \n",
       "32775    now   years old, alec's younger brother ethan ...\n",
       "32776    born in  , everything about ethan and his new ...\n",
       "32777    positioned between brothers, alec and mason, e...\n",
       "32778             blend:  % cabernet sauvignon,  % merlot \n",
       "32779              blend:  % cabernet sauvignon,  % merlot\n",
       "Name: notes, Length: 32402, dtype: object"
      ]
     },
     "execution_count": 13,
     "metadata": {},
     "output_type": "execute_result"
    }
   ],
   "source": [
    "non_dm_data[\"notes\"] = non_dm_data[\"notes\"].str.replace(r'\\d+', \" \", regex = True)\n",
    "non_dm_data[\"notes\"]"
   ]
  },
  {
   "cell_type": "markdown",
   "metadata": {},
   "source": [
    "**3.\tEliminate punctuation marks to simplify the text.**"
   ]
  },
  {
   "cell_type": "code",
   "execution_count": 14,
   "metadata": {},
   "outputs": [
    {
     "data": {
      "text/plain": [
       "0        this is a very special limited release of   st...\n",
       "1        the california gold rush was a period of coura...\n",
       "2        the california gold rush was a period of coura...\n",
       "3        the wine has a deep rich purple color an inten...\n",
       "4        batch   is the first release of the   vintage ...\n",
       "                               ...                        \n",
       "32775    now   years old alecs younger brother ethan sh...\n",
       "32776    born in   everything about ethan and his new  ...\n",
       "32777    positioned between brothers alec and mason eth...\n",
       "32778                 blend   cabernet sauvignon   merlot \n",
       "32779                  blend   cabernet sauvignon   merlot\n",
       "Name: notes, Length: 32402, dtype: object"
      ]
     },
     "execution_count": 14,
     "metadata": {},
     "output_type": "execute_result"
    }
   ],
   "source": [
    "non_dm_data[\"notes\"] = non_dm_data[\"notes\"].str.translate(str.maketrans(\"\", \"\", string.punctuation))\n",
    "non_dm_data[\"notes\"]"
   ]
  },
  {
   "cell_type": "markdown",
   "metadata": {},
   "source": [
    "**4.\tLemmatize the text using POS tagging to reduce words to their root forms while preserving context.**"
   ]
  },
  {
   "cell_type": "code",
   "execution_count": 15,
   "metadata": {},
   "outputs": [],
   "source": [
    "# function to convert POS tag to WordNet POS tag\n",
    "def get_wordnet_pos(treebank_tag):\n",
    "    if treebank_tag.startswith('J'):\n",
    "        return wordnet.ADJ\n",
    "    elif treebank_tag.startswith('V'):\n",
    "        return wordnet.VERB\n",
    "    elif treebank_tag.startswith('N'):\n",
    "        return wordnet.NOUN\n",
    "    elif treebank_tag.startswith('R'):\n",
    "        return wordnet.ADV\n",
    "    else:\n",
    "        return wordnet.NOUN     #default to noun if no match"
   ]
  },
  {
   "cell_type": "code",
   "execution_count": 16,
   "metadata": {},
   "outputs": [],
   "source": [
    "# function to lemmatize text\n",
    "def lemmatize_text(text):\n",
    "    # tokenize the text\n",
    "    tokens = nltk.word_tokenize(text)  \n",
    "    # Get POS tags for the tokens\n",
    "    pos_tags = nltk.pos_tag(tokens)\n",
    "    # Initialize the lemmatizer\n",
    "    lemmatizer = WordNetLemmatizer()\n",
    "    # Lemmatize each word with its POS tag\n",
    "    lemmatized_words = []\n",
    "\n",
    "    for word, tag in pos_tags:\n",
    "        wordnet_pos = get_wordnet_pos(tag)\n",
    "        lemmatized_word = lemmatizer.lemmatize(word, pos = wordnet_pos)\n",
    "        lemmatized_words.append(lemmatized_word)\n",
    "    # return the lemmatized words joined as a string\n",
    "    return \" \".join(lemmatized_words)"
   ]
  },
  {
   "cell_type": "code",
   "execution_count": 17,
   "metadata": {},
   "outputs": [
    {
     "data": {
      "text/plain": [
       "0        this be a very special limited release of stor...\n",
       "1        the california gold rush be a period of courag...\n",
       "2        the california gold rush be a period of courag...\n",
       "3        the wine have a deep rich purple color an inte...\n",
       "4        batch be the first release of the vintage and ...\n",
       "                               ...                        \n",
       "32775    now year old alecs young brother ethan show su...\n",
       "32776    bear in everything about ethan and his new syr...\n",
       "32777    position between brother alec and mason ethan ...\n",
       "32778                      blend cabernet sauvignon merlot\n",
       "32779                      blend cabernet sauvignon merlot\n",
       "Name: notes, Length: 32402, dtype: object"
      ]
     },
     "execution_count": 17,
     "metadata": {},
     "output_type": "execute_result"
    }
   ],
   "source": [
    "# apply lemmatization to the notes\n",
    "non_dm_data[\"notes\"] = non_dm_data[\"notes\"].apply(lemmatize_text)\n",
    "non_dm_data[\"notes\"]"
   ]
  },
  {
   "cell_type": "markdown",
   "metadata": {},
   "source": [
    "**5.\tRemove stopwords (e.g., \"the\", \"and\") to focus on relevant terms.** <br>\n",
    "Create a new column  \"description_token\"  to store the cleaned text as tokens."
   ]
  },
  {
   "cell_type": "code",
   "execution_count": 18,
   "metadata": {},
   "outputs": [],
   "source": [
    "# define the stop words set\n",
    "stop_words = set(stopwords.words(\"english\"))"
   ]
  },
  {
   "cell_type": "code",
   "execution_count": 19,
   "metadata": {},
   "outputs": [],
   "source": [
    "# function to remove stopwords\n",
    "def remove_stopwords(text):\n",
    "    return \" \".join([word for word in text.split() if word not in stop_words])"
   ]
  },
  {
   "cell_type": "code",
   "execution_count": 20,
   "metadata": {},
   "outputs": [
    {
     "data": {
      "text/plain": [
       "0    special limited release story bourbon barrelag...\n",
       "1    california gold rush period courage bravado cu...\n",
       "2    california gold rush period courage bravado cu...\n",
       "3    wine deep rich purple color intense raspberry ...\n",
       "4    batch first release vintage againmendocino zin...\n",
       "Name: description_token, dtype: object"
      ]
     },
     "execution_count": 20,
     "metadata": {},
     "output_type": "execute_result"
    }
   ],
   "source": [
    "# apply function to notes column\n",
    "non_dm_data[\"description_token\"] = non_dm_data[\"notes\"].apply(remove_stopwords)\n",
    "non_dm_data[\"description_token\"].head()"
   ]
  },
  {
   "cell_type": "markdown",
   "metadata": {},
   "source": [
    "### **Section C: Analysis**\n",
    "Use the cleaned data from section A and B to answer the following questions."
   ]
  },
  {
   "cell_type": "markdown",
   "metadata": {},
   "source": [
    "**1.\tIdentify the top 5 words most strongly associated with wine quality (good, outstanding and exceptional). <br>For each wine quality group, display top 5 words.**"
   ]
  },
  {
   "cell_type": "code",
   "execution_count": 21,
   "metadata": {},
   "outputs": [
    {
     "data": {
      "text/plain": [
       "Index(['name', 'region', 'variety', 'rating', 'notes', 'wine_quality',\n",
       "       'description_token'],\n",
       "      dtype='object')"
      ]
     },
     "execution_count": 21,
     "metadata": {},
     "output_type": "execute_result"
    }
   ],
   "source": [
    "non_dm_data.columns"
   ]
  },
  {
   "cell_type": "code",
   "execution_count": 22,
   "metadata": {},
   "outputs": [
    {
     "data": {
      "text/plain": [
       "{'Exceptional': ['wine', 'fruit', 'tannin', 'black', 'palate'],\n",
       " 'Good': ['wine', 'fruit', 'flavor', 'aroma', 'finish'],\n",
       " 'Outstanding': ['wine', 'fruit', 'aroma', 'finish', 'palate']}"
      ]
     },
     "execution_count": 22,
     "metadata": {},
     "output_type": "execute_result"
    }
   ],
   "source": [
    "# group data by wine quality and join all description token in each category\n",
    "grouped_description = non_dm_data.groupby(\"wine_quality\")[\"description_token\"].apply(lambda x: \" \".join(x)).reset_index()\n",
    "\n",
    "# initialize TfidfVectorizer\n",
    "tfidf = TfidfVectorizer()\n",
    "\n",
    "# apply TF-IDF to the decription_token column\n",
    "tfidf_matrix = tfidf.fit_transform(grouped_description[\"description_token\"])\n",
    "\n",
    "# convert TF-IDF matrix to a dataframe\n",
    "tfidf_df = pd.DataFrame(tfidf_matrix.toarray(), columns = tfidf.get_feature_names_out(), index = grouped_description[\"wine_quality\"])\n",
    "\n",
    "# get the top 5 moost associated words for each quality\n",
    "top_n = 5\n",
    "top_words = {}\n",
    "\n",
    "for wine_quality in tfidf_df.index:\n",
    "    # get the top N words with the highest TF-IDF score for each quality\n",
    "    sorted_words = tfidf_df.loc[wine_quality].sort_values(ascending = False).head(top_n)\n",
    "    top_words[wine_quality] = sorted_words.index.tolist()\n",
    "\n",
    "top_words"
   ]
  },
  {
   "cell_type": "markdown",
   "metadata": {},
   "source": [
    "**2.\tDisplay the top 5 regions producing the highest number of Exceptional quality wines.**"
   ]
  },
  {
   "cell_type": "code",
   "execution_count": 23,
   "metadata": {},
   "outputs": [
    {
     "data": {
      "text/plain": [
       "region\n",
       "France       994\n",
       "U.S.         882\n",
       "Italy        269\n",
       "Australia    124\n",
       "Spain        108\n",
       "Name: region, dtype: int64"
      ]
     },
     "execution_count": 23,
     "metadata": {},
     "output_type": "execute_result"
    }
   ],
   "source": [
    "exceptional = non_dm_data[non_dm_data[\"wine_quality\"] == \"Exceptional\"]\n",
    "exceptional.groupby(\"region\")[\"region\"].count().nlargest(5)"
   ]
  },
  {
   "cell_type": "markdown",
   "metadata": {},
   "source": [
    "**3.\tIdentify and display the regions with the highest diversity of wine varieties.**"
   ]
  },
  {
   "cell_type": "code",
   "execution_count": 24,
   "metadata": {},
   "outputs": [
    {
     "data": {
      "text/plain": [
       "region\n",
       "U.S.         13394\n",
       "France        7864\n",
       "Italy         4067\n",
       "Spain         1778\n",
       "Australia     1652\n",
       "Name: variety, dtype: int64"
      ]
     },
     "execution_count": 24,
     "metadata": {},
     "output_type": "execute_result"
    }
   ],
   "source": [
    "non_dm_data.groupby(\"region\")[\"variety\"].count().nlargest(5)"
   ]
  }
 ],
 "metadata": {
  "kernelspec": {
   "display_name": "Python 3",
   "language": "python",
   "name": "python3"
  },
  "language_info": {
   "codemirror_mode": {
    "name": "ipython",
    "version": 3
   },
   "file_extension": ".py",
   "mimetype": "text/x-python",
   "name": "python",
   "nbconvert_exporter": "python",
   "pygments_lexer": "ipython3",
   "version": "3.12.4"
  }
 },
 "nbformat": 4,
 "nbformat_minor": 2
}
