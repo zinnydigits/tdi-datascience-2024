{
 "cells": [
  {
   "cell_type": "markdown",
   "metadata": {},
   "source": [
    "### **TDI Data Science Track** <br>Week 5 Task: Data Structures and Object Oriented Programming"
   ]
  },
  {
   "cell_type": "code",
   "execution_count": 1,
   "metadata": {},
   "outputs": [],
   "source": [
    "import csv"
   ]
  },
  {
   "cell_type": "markdown",
   "metadata": {},
   "source": [
    "#### **1. Classes and Inheritance**"
   ]
  },
  {
   "cell_type": "markdown",
   "metadata": {},
   "source": [
    "a.    Define a class Employee with attributes for name, age, and salary (private attribute) <br>\n",
    "ii.\tA method to get and set the value of the salary. <br>\n",
    "iii.\tA method to display the employee’s details."
   ]
  },
  {
   "cell_type": "code",
   "execution_count": 2,
   "metadata": {},
   "outputs": [],
   "source": [
    "class Employee:\n",
    "    def __init__(self, name, age, salary):\n",
    "        self.name = name \n",
    "        self.age = age\n",
    "        self.__salary = salary    #private attribute\n",
    "        \n",
    "    # method to get the salary\n",
    "    def get_salary(self):\n",
    "        return self.__salary\n",
    "\n",
    "    # method to set the salary\n",
    "    def set_salary(self, salary):\n",
    "        self.__salary = salary\n",
    "\n",
    "    # method to display employee details\n",
    "    def display_details(self):\n",
    "        print(f\"Name:{self.name}, Age:{self.age}, Salary: {self.salary}\")"
   ]
  },
  {
   "cell_type": "markdown",
   "metadata": {},
   "source": [
    "i.\tDescribe the difference between private and public attributes in Python classes. \n",
    "- When would you choose to make an attribute private?"
   ]
  },
  {
   "cell_type": "markdown",
   "metadata": {},
   "source": [
    "**Public Attributes** <br> \n",
    "- **Access:** Public Attributes are accessible from both inside and outside the class.\n",
    "- **Convention:** Attributes without any underscores (e.g name) are considered public.\n",
    "- **Modification:** Can be modified freely\n",
    "- **Purpose:** Used for attributes that can be openly accessed and unchanged. "
   ]
  },
  {
   "cell_type": "markdown",
   "metadata": {},
   "source": [
    "**Private Attributes** <br> \n",
    "- **Access:** Private Attributes are accessible from only inside the class.\n",
    "- **Convention:** Attributes with two leading underscores (e.g __salary) are considered private.\n",
    "- **Modification:** Cannot be modified directly, requires methods to access or change.\n",
    "- **Purpose:** Used for sensitive data that should be hidden and protected."
   ]
  },
  {
   "cell_type": "markdown",
   "metadata": {},
   "source": [
    "**When to make an attribute private:** <br>\n",
    "- **Encapsulation:** When the data needs to be hidden which helps control access to sensitive data and ensures integrity of the data.\n",
    "- **Prevent External Modification:** This is for attributes that are critical to the object's internal state or logic.\n"
   ]
  },
  {
   "cell_type": "markdown",
   "metadata": {},
   "source": [
    "b.\tExplain how inheritance can be used to create a class hierarchy for different employee types such as Employee, Manager, and Intern. You can provide code examples if necessary.\n"
   ]
  },
  {
   "cell_type": "markdown",
   "metadata": {},
   "source": [
    "**Inheritance:** Inheritance allows creation of a class hierarchy where one class (the child class) inherits attributes and methods from another class (the parent class). This is useful for representing relationships between different types of objects, like different types of employees in a company. <br>\n",
    "An example:\n",
    "- **Employee:** The base class that contains common attributes and methods for employees.\n",
    "- **Manager:** A subclass that extends Employee and adds additional features like managing department.\n",
    "- **Interns:** Another subclass that extends Employee but might have different methods and attributes specific to interns."
   ]
  },
  {
   "cell_type": "code",
   "execution_count": 3,
   "metadata": {},
   "outputs": [],
   "source": [
    "# Manager inheriting Employee class attributes\n",
    "class Manager(Employee):\n",
    "    def __init__(self, name, age, salary, department, position):\n",
    "        # call the parent class constructor using super()\n",
    "        super().__init__(name, age, salary)\n",
    "        self.department = department\n",
    "        self.position = position"
   ]
  },
  {
   "cell_type": "markdown",
   "metadata": {},
   "source": [
    "c.\tCreate a Python program where the Manager class extends the Employee class. Override the method responsible for displaying employee details to include extra information about the manager's departments and their respective positions."
   ]
  },
  {
   "cell_type": "markdown",
   "metadata": {},
   "source": [
    "#### **2.\tReading and Slicing Datasets**"
   ]
  },
  {
   "cell_type": "markdown",
   "metadata": {},
   "source": [
    "a.\tWrite a Python function to read data from a CSV file into a list of dictionaries, where each dictionary represents a row in the file. <br> Limit the data read to the first 20 rows."
   ]
  },
  {
   "cell_type": "code",
   "execution_count": 4,
   "metadata": {},
   "outputs": [],
   "source": [
    "# read csv file into a list of dictionaries\n",
    "file_path = \"Employees-Dataset01.csv\"\n",
    "with open(file_path, 'r') as file:\n",
    "    # create a CSV reader object\n",
    "    csvreader = csv.DictReader(file)\n",
    "    \n",
    "    # convert to a list of dictionaries\n",
    "    data = [row for row in csvreader]"
   ]
  },
  {
   "cell_type": "code",
   "execution_count": 5,
   "metadata": {},
   "outputs": [
    {
     "name": "stdout",
     "output_type": "stream",
     "text": [
      "1 {'Name': 'John Doe', 'Age': '28', 'Salary': '5000000', 'Department': 'Engineering'}\n",
      "2 {'Name': 'Jane Smith', 'Age': '32', 'Salary': '5500000', 'Department': 'Marketing'}\n",
      "3 {'Name': 'Emily Johnson', 'Age': '45', 'Salary': '7000000', 'Department': 'Finance'}\n",
      "4 {'Name': 'Michael Brown', 'Age': '30', 'Salary': '6000000', 'Department': 'Engineering'}\n",
      "5 {'Name': 'Linda Davis', 'Age': '27', 'Salary': '4800000', 'Department': 'Sales'}\n",
      "6 {'Name': 'James Wilson', 'Age': '40', 'Salary': '7200000', 'Department': 'Finance'}\n",
      "7 {'Name': 'Mary Moore', 'Age': '35', 'Salary': '6200000', 'Department': 'Engineering'}\n",
      "8 {'Name': 'David Taylor', 'Age': '50', 'Salary': '7500000', 'Department': 'Marketing'}\n",
      "9 {'Name': 'Laura Anderson', 'Age': '29', 'Salary': '5100000', 'Department': 'Sales'}\n",
      "10 {'Name': 'Chris Thomas', 'Age': '42', 'Salary': '6800000', 'Department': 'Engineering'}\n",
      "11 {'Name': 'Patricia Jackson', 'Age': '33', 'Salary': '5900000', 'Department': 'Marketing'}\n",
      "12 {'Name': 'Robert Harris', 'Age': '37', 'Salary': '6400000', 'Department': 'Finance'}\n",
      "13 {'Name': 'Jennifer Martin', 'Age': '26', 'Salary': '4700000', 'Department': 'Sales'}\n",
      "14 {'Name': 'William Lewis', 'Age': '31', 'Salary': '5300000', 'Department': 'Engineering'}\n",
      "15 {'Name': 'Barbara Walker', 'Age': '34', 'Salary': '6100000', 'Department': 'Marketing'}\n",
      "16 {'Name': 'Daniel Hall', 'Age': '38', 'Salary': '6500000', 'Department': 'Finance'}\n",
      "17 {'Name': 'Elizabeth Young', 'Age': '39', 'Salary': '6700000', 'Department': 'Sales'}\n",
      "18 {'Name': 'Joseph Allen', 'Age': '25', 'Salary': '4500000', 'Department': 'Engineering'}\n",
      "19 {'Name': 'Sarah King', 'Age': '44', 'Salary': '6900000', 'Department': 'Marketing'}\n",
      "20 {'Name': 'Charles Scott', 'Age': '30', 'Salary': '6000000', 'Department': 'Sales'}\n"
     ]
    }
   ],
   "source": [
    "# display only first 20 rows\n",
    "limit = 0\n",
    "for record in data:\n",
    "    if limit < 20:\n",
    "        limit = limit + 1\n",
    "        print(f\"{limit} {record}\")"
   ]
  },
  {
   "cell_type": "markdown",
   "metadata": {},
   "source": [
    "b. Slice the dataset to get all employees with a salary above average salary. <br> Extract only the Name and Department fields from each dictionary. <br>The output should be sorted by name in ascending order.\n"
   ]
  },
  {
   "cell_type": "code",
   "execution_count": 6,
   "metadata": {},
   "outputs": [
    {
     "name": "stdout",
     "output_type": "stream",
     "text": [
      "Average salary earned by workers: 3354651.35.\n",
      "These are the workers who earn above the average pay and their departments:\n",
      "(Alexander Rogers, Sales, N6200000)\n",
      "(Alice -16, Finance, N4853380)\n",
      "(Alice -2, , N3383944)\n",
      "(Alice -31, , N4171861)\n",
      "(Alice -36, Marketing, N3532971)\n",
      "(Alice -49, Sales, N3501467)\n",
      "(Alice 17, , N4564862)\n",
      "(Alice 65, Sales, N4544799)\n",
      "(Alice 73, Finance, N3852378)\n",
      "(Alice 98, , N4039515)\n",
      "(Amanda Young, Marketing, N5900000)\n",
      "(Angela Green, Finance, N5200000)\n",
      "(Ashley Turner, Finance, N6000000)\n",
      "(Ava Carter, Marketing, N5300000)\n",
      "(Barbara Walker, Marketing, N6100000)\n",
      "(Bob -21, Sales, N3861301)\n",
      "(Bob -34, Engineering, N4805822)\n",
      "(Bob 50, Marketing, N4344360)\n",
      "(Bob 80, Sales, N4704784)\n",
      "(Brian Wright, Engineering, N6800000)\n",
      "(Charles Scott, Sales, N6000000)\n",
      "(Charlie 23, , N4872582)\n",
      "(Charlie 42, Sales, N4805211)\n",
      "(Charlie 6, Finance, N4864284)\n",
      "(Charlie 99, , N4547808)\n",
      "(Charlotte Wright, Finance, N5500000)\n",
      "(Chloe Coleman, Marketing, N6600000)\n",
      "(Chris Thomas, Engineering, N6800000)\n",
      "(Daniel Hall, Finance, N6500000)\n",
      "(Daniel Howard, Sales, N5900000)\n",
      "(David Taylor, Marketing, N7500000)\n",
      "(Diana -45, Marketing, N4369685)\n",
      "(Diana 19, Finance, N4749298)\n",
      "(Diana 21, Engineering, N3892426)\n",
      "(Diana 86, Engineering, N4905704)\n",
      "(Edward Cooper, Sales, N5500000)\n",
      "(Elizabeth Young, Sales, N6700000)\n",
      "(Emily Johnson, Finance, N7000000)\n",
      "(Ethan Mitchell, Engineering, N6900000)\n",
      "(Eve 28, Finance, N4838504)\n",
      "(Eve 49, Finance, N4344360)\n",
      "(Eve 58, Engineering, N3886476)\n",
      "(Eve 60, Sales, N3439548)\n",
      "(Frank -35, Marketing, N3532971)\n",
      "(Grace -13, Finance, N4414913)\n",
      "(Grace -40, Sales, N4929931)\n",
      "(Grace 44, Finance, N4125371)\n",
      "(Grace 47, Marketing, N4345082)\n",
      "(Hannah 1, Engineering, N4424109)\n",
      "(Hannah 22, Finance, N3892426)\n",
      "(Hannah 29, Sales, N4598716)\n",
      "(Hannah 78, Marketing, N4476569)\n",
      "(Harper Adams, Finance, N5700000)\n",
      "(Henry Reed, Engineering, N5700000)\n",
      "(Isaac -30, , N3948087)\n",
      "(Isaac 45, Engineering, N3959073)\n",
      "(Isaac 79, Engineering, N4495805)\n",
      "(Isabella King, Finance, N5100000)\n",
      "(Jack Peterson, Sales, N5100000)\n",
      "(Jacob Morris, Engineering, N6700000)\n",
      "(James Wilson, Finance, N7200000)\n",
      "(Jane Smith, Marketing, N5500000)\n",
      "(Jennifer Martin, Sales, N4700000)\n",
      "(Jessica Nelson, Marketing, N5700000)\n",
      "(John Doe, Engineering, N5000000)\n",
      "(Joseph Allen, Engineering, N4500000)\n",
      "(Joshua Evans, Sales, N5300000)\n",
      "(Judy -33, Finance, N4805822)\n",
      "(Judy -43, Finance, N3518187)\n",
      "(Judy 10, Marketing, N3968491)\n",
      "(Judy 41, Sales, N3517637)\n",
      "(Judy 67, , N4324361)\n",
      "(Judy 93, Sales, N4288673)\n",
      "(Judy 94, Finance, N4421829)\n",
      "(Kevin Perez, Engineering, N6500000)\n",
      "(Laura Anderson, Sales, N5100000)\n",
      "(Lily Ross, Marketing, N5400000)\n",
      "(Linda Davis, Sales, N4800000)\n",
      "(Mary Moore, Engineering, N6200000)\n",
      "(Mason Sanders, Engineering, N6300000)\n",
      "(Matthew Carter, Sales, N7000000)\n",
      "(Megan Roberts, Marketing, N5800000)\n",
      "(Michael Brown, Engineering, N6000000)\n",
      "(Nancy Mitchell, Finance, N6200000)\n",
      "(Olivia Lee, Marketing, N4900000)\n",
      "(Patricia Jackson, Marketing, N5900000)\n",
      "(Richard Adams, Engineering, N5400000)\n",
      "(Robert Harris, Finance, N6400000)\n",
      "(Samuel Allen, Sales, N6400000)\n",
      "(Sarah King, Marketing, N6900000)\n",
      "(Sophia Hall, Finance, N5600000)\n",
      "(William Lewis, Engineering, N5300000)\n",
      "(Zoe Brooks, Finance, N6000000)\n"
     ]
    }
   ],
   "source": [
    "# load salary data into a list\n",
    "salary_data = [item[\"Salary\"] for item in data]\n",
    "\n",
    "# create an empty list to save salary data\n",
    "int_salary = []\n",
    "\n",
    "# drop salary data that has string values\n",
    "for salary in salary_data:\n",
    "    try:\n",
    "        converted_salary = int(salary)\n",
    "    except ValueError:\n",
    "        convert_salary = None\n",
    "    int_salary.append(converted_salary)\n",
    "\n",
    "# replace salary with int_salary in data\n",
    "num = 0\n",
    "for item in data:\n",
    "    item[\"Salary\"] = int_salary[num]\n",
    "    num = num + 1\n",
    "\n",
    "# calculating the average value\n",
    "avg_salary = sum(int_salary)/len(int_salary)\n",
    "\n",
    "print(f\"Average salary earned by workers: {avg_salary}.\")\n",
    "print(\"These are the workers who earn above the average pay and their departments:\")\n",
    "\n",
    "# sort data according to name\n",
    "sorted_data = sorted(data, key=lambda data: data[\"Name\"])\n",
    "\n",
    "for item in sorted_data:\n",
    "    if item[\"Salary\"] > avg_salary:\n",
    "        print(f\"({item[\"Name\"]}, {item['Department']}, N{item['Salary']})\")"
   ]
  },
  {
   "cell_type": "markdown",
   "metadata": {},
   "source": [
    "#### **3.\tIntegrating Classes with Dataset Operations**"
   ]
  },
  {
   "cell_type": "markdown",
   "metadata": {},
   "source": [
    "#### **a.\tCreate Employee Objects from CSV: <br>**"
   ]
  },
  {
   "cell_type": "markdown",
   "metadata": {},
   "source": [
    "**i.\tWrite a function using the Employee class that reads employee data from a CSV file. <br>For each row in the CSV, create an employee object and store these objects in a list.**"
   ]
  },
  {
   "cell_type": "code",
   "execution_count": 7,
   "metadata": {},
   "outputs": [],
   "source": [
    "# creating Employee class\n",
    "class Employee:\n",
    "    def __init__(self, name, age, salary, department):\n",
    "        self.name = name \n",
    "        self.age = age\n",
    "        self.salary = salary\n",
    "        self.department = department\n",
    "\n",
    "    def __repr__(self):\n",
    "        return f\"[{self.name}, {self.age}, {self.salary}, {self.department}]\"\n",
    "    \n",
    "# create a function to convert salary and age to integer\n",
    "def convert_to_int(value):\n",
    "        try:\n",
    "            return int(value)\n",
    "        except ValueError:\n",
    "            return None     # return None if the conversion fails"
   ]
  },
  {
   "cell_type": "code",
   "execution_count": 8,
   "metadata": {},
   "outputs": [],
   "source": [
    "# creating a function that reads employee data and stores them in a list\n",
    "def read_employee_from_csv(file_path):\n",
    "    employees = []\n",
    "    with open(file_path, \"r\") as csvfile:\n",
    "        reader = csv.DictReader(csvfile)\n",
    "        for row in reader:\n",
    "            # create Employee object for each row and append to the list\n",
    "            employee = Employee(name=row[\"Name\"], \n",
    "                                age = convert_to_int(row[\"Age\"]), \n",
    "                                salary = convert_to_int(row[\"Salary\"]), \n",
    "                                department = row[\"Department\"])\n",
    "            employees.append(employee)\n",
    "    return employees"
   ]
  },
  {
   "cell_type": "code",
   "execution_count": 9,
   "metadata": {},
   "outputs": [
    {
     "name": "stdout",
     "output_type": "stream",
     "text": [
      "[John Doe, 28, 5000000, Engineering]\n",
      "[Jane Smith, 32, 5500000, Marketing]\n",
      "[Emily Johnson, 45, 7000000, Finance]\n",
      "[Michael Brown, 30, 6000000, Engineering]\n",
      "[Linda Davis, 27, 4800000, Sales]\n",
      "[James Wilson, 40, 7200000, Finance]\n",
      "[Mary Moore, 35, 6200000, Engineering]\n",
      "[David Taylor, 50, 7500000, Marketing]\n",
      "[Laura Anderson, 29, 5100000, Sales]\n",
      "[Chris Thomas, 42, 6800000, Engineering]\n",
      "[Patricia Jackson, 33, 5900000, Marketing]\n",
      "[Robert Harris, 37, 6400000, Finance]\n",
      "[Jennifer Martin, 26, 4700000, Sales]\n",
      "[William Lewis, 31, 5300000, Engineering]\n",
      "[Barbara Walker, 34, 6100000, Marketing]\n",
      "[Daniel Hall, 38, 6500000, Finance]\n",
      "[Elizabeth Young, 39, 6700000, Sales]\n",
      "[Joseph Allen, 25, 4500000, Engineering]\n",
      "[Sarah King, 44, 6900000, Marketing]\n",
      "[Charles Scott, 30, 6000000, Sales]\n",
      "[Angela Green, 29, 5200000, Finance]\n",
      "[Richard Adams, 28, 5400000, Engineering]\n",
      "[Jessica Nelson, 31, 5700000, Marketing]\n",
      "[Matthew Carter, 45, 7000000, Sales]\n",
      "[Nancy Mitchell, 37, 6200000, Finance]\n",
      "[Kevin Perez, 40, 6500000, Engineering]\n",
      "[Megan Roberts, 32, 5800000, Marketing]\n",
      "[Joshua Evans, 29, 5300000, Sales]\n",
      "[Ashley Turner, 35, 6000000, Finance]\n",
      "[Brian Wright, 42, 6800000, Engineering]\n",
      "[Amanda Young, 33, 5900000, Marketing]\n",
      "[Edward Cooper, 31, 5500000, Sales]\n",
      "[Sophia Hall, 30, 5600000, Finance]\n",
      "[Jacob Morris, 40, 6700000, Engineering]\n",
      "[Olivia Lee, 25, 4900000, Marketing]\n",
      "[Samuel Allen, 36, 6400000, Sales]\n",
      "[Isabella King, 29, 5100000, Finance]\n",
      "[Ethan Mitchell, 38, 6900000, Engineering]\n",
      "[Ava Carter, 28, 5300000, Marketing]\n",
      "[Alexander Rogers, 35, 6200000, Sales]\n",
      "[Charlotte Wright, 32, 5500000, Finance]\n",
      "[Henry Reed, 31, 5700000, Engineering]\n",
      "[Lily Ross, 30, 5400000, Marketing]\n",
      "[Jack Peterson, 29, 5100000, Sales]\n",
      "[Zoe Brooks, 34, 6000000, Finance]\n",
      "[Mason Sanders, 37, 6300000, Engineering]\n",
      "[Chloe Coleman, 40, 6600000, Marketing]\n",
      "[Daniel Howard, 33, 5900000, Sales]\n",
      "[Harper Adams, 31, 5700000, Finance]\n",
      "[Alice -49, 48, 3501467, Sales]\n",
      "[Alice -48, 40, 2032806, Sales]\n",
      "[Charlie -47, 37, 2132539, Engineering]\n",
      "[Grace -46, 37, 1301649, Marketing]\n",
      "[Diana -45, 47, 4369685, Marketing]\n",
      "[Isaac -44, 32, 1245294, Engineering]\n",
      "[Judy -43, 26, 3518187, Finance]\n",
      "[Diana -42, 29, 3035591, Sales]\n",
      "[Charlie -41, 25, 1153283, Sales]\n",
      "[Grace -40, 38, 4929931, Sales]\n",
      "[Bob -39, 50, 1098982, Finance]\n",
      "[Judy -38, 30, 2383899, Engineering]\n",
      "[Bob -37, 46, 811455, Finance]\n",
      "[Alice -36, 31, 3532971, Marketing]\n",
      "[Frank -35, 35, None, Marketing]\n",
      "[Bob -34, 48, 4805822, Engineering]\n",
      "[Judy -33, 36, None, Finance]\n",
      "[Judy -32, 30, 2016201, Marketing]\n",
      "[Alice -31, 35, 4171861, ]\n",
      "[Isaac -30, 38, 3948087, ]\n",
      "[Alice -29, 41, 2008358, Finance]\n",
      "[Alice -28, 32, 2336843, Sales]\n",
      "[Judy -27, None, None, Engineering]\n",
      "[Bob -26, 35, 1495519, Sales]\n",
      "[Bob -25, 41, 2706486, Finance]\n",
      "[Alice -24, 43, 342318, Sales]\n",
      "[Bob -23, None, 1677722, Engineering]\n",
      "[Frank -22, 24, None, Marketing]\n",
      "[Bob -21, 46, 3861301, Sales]\n",
      "[Frank -20, 39, 3276405, Engineering]\n",
      "[Eve -19, None, 1035627, Finance]\n",
      "[Isaac -18, 33, 1687415, Engineering]\n",
      "[Isaac -17, None, 1321984, Marketing]\n",
      "[Alice -16, 42, 4853380, Finance]\n",
      "[Alice -15, 26, 1728769, Engineering]\n",
      "[Diana -14, 40, 1787738, Engineering]\n",
      "[Grace -13, 42, 4414913, Finance]\n",
      "[Eve -12, 25, 1183812, Engineering]\n",
      "[Eve -11, None, 1634495, Sales]\n",
      "[Bob -10, 46, 2872599, Finance]\n",
      "[Alice -9, 50, 3060883, Engineering]\n",
      "[Eve -8, 26, 1979065, ]\n",
      "[Eve -7, 35, 1197784, Marketing]\n",
      "[Judy -6, 30, 2662569, Sales]\n",
      "[Hannah -5, 36, 2985308, Marketing]\n",
      "[Grace -4, 22, 2897633, ]\n",
      "[Frank -3, 42, 1636208, Engineering]\n",
      "[Alice -2, 45, 3383944, ]\n",
      "[Grace -1, 27, 1971925, Finance]\n",
      "[Eve 0, None, 494658, Engineering]\n",
      "[Hannah 1, 35, 4424109, Engineering]\n",
      "[Frank 2, 37, 2592665, Sales]\n",
      "[Grace 3, 44, None, Marketing]\n",
      "[Hannah 4, 42, 814121, Engineering]\n",
      "[Isaac 5, 29, 184861, ]\n",
      "[Charlie 6, 45, 4864284, Finance]\n",
      "[Bob 7, 41, 2688791, Engineering]\n",
      "[Charlie 8, 48, 1577020, Finance]\n",
      "[Frank 9, 39, 2231732, Marketing]\n",
      "[Judy 10, None, 3968491, Marketing]\n",
      "[Alice 11, 44, 2484095, Finance]\n",
      "[Bob 12, 31, None, Engineering]\n",
      "[Isaac 13, 35, 824844, Marketing]\n",
      "[Judy 14, 38, 1426708, Sales]\n",
      "[Hannah 15, 49, None, Engineering]\n",
      "[Frank 16, 44, 2337560, Finance]\n",
      "[Alice 17, None, 4564862, ]\n",
      "[Diana 18, 48, 1150468, Marketing]\n",
      "[Diana 19, 41, 4749298, Finance]\n",
      "[Hannah 20, 45, 2847588, Engineering]\n",
      "[Diana 21, 48, 3892426, Engineering]\n",
      "[Hannah 22, 49, None, Finance]\n",
      "[Charlie 23, 35, 4872582, ]\n",
      "[Hannah 24, 38, 3323345, Marketing]\n",
      "[Alice 25, 33, 1436477, Sales]\n",
      "[Hannah 26, 37, None, ]\n",
      "[Judy 27, None, 1676923, Engineering]\n",
      "[Eve 28, 41, 4838504, Finance]\n",
      "[Hannah 29, 36, 4598716, Sales]\n",
      "[Charlie 30, 40, 2534602, Sales]\n",
      "[Hannah 31, 36, 2865054, Marketing]\n",
      "[Eve 32, 34, 1140081, Sales]\n",
      "[Charlie 33, 42, 511145, Sales]\n",
      "[Charlie 34, 24, 820924, Engineering]\n",
      "[Isaac 35, 24, 1101174, Marketing]\n",
      "[Frank 36, 27, 496734, Finance]\n",
      "[Judy 37, 45, 169870, Sales]\n",
      "[Frank 38, None, 2763104, Engineering]\n",
      "[Hannah 39, 45, None, Sales]\n",
      "[Eve 40, None, 789253, Sales]\n",
      "[Judy 41, 35, 3517637, Sales]\n",
      "[Charlie 42, 31, 4805211, Sales]\n",
      "[Eve 43, None, 2073979, Engineering]\n",
      "[Grace 44, 41, 4125371, Finance]\n",
      "[Isaac 45, 34, 3959073, Engineering]\n",
      "[Frank 46, 50, 1432713, Sales]\n",
      "[Grace 47, 42, 4345082, Marketing]\n",
      "[Isaac 48, 23, 3060254, Engineering]\n",
      "[Eve 49, 37, 4344360, Finance]\n",
      "[Bob 50, 32, None, Marketing]\n",
      "[Eve 51, 42, 2038533, Engineering]\n",
      "[Isaac 52, 39, 460634, Sales]\n",
      "[Eve 53, 27, 1808817, Engineering]\n",
      "[Judy 54, 29, 79511, Finance]\n",
      "[Isaac 55, 34, 2680827, Engineering]\n",
      "[Charlie 56, 38, 2243938, Finance]\n",
      "[Alice 57, 34, None, Sales]\n",
      "[Eve 58, 36, 3886476, Engineering]\n",
      "[Hannah 59, 26, 2122859, Sales]\n",
      "[Eve 60, 49, 3439548, Sales]\n",
      "[Grace 61, 26, 100843, ]\n",
      "[Bob 62, 23, 2245289, Finance]\n",
      "[Bob 63, 37, 2659076, Engineering]\n",
      "[Diana 64, 50, 2497535, Finance]\n",
      "[Alice 65, 32, 4544799, Sales]\n",
      "[Bob 66, 43, 718757, Sales]\n",
      "[Judy 67, 34, 4324361, ]\n",
      "[Eve 68, 27, 581845, Sales]\n",
      "[Bob 69, 39, 1876938, Marketing]\n",
      "[Grace 70, 44, 2539633, Marketing]\n",
      "[Charlie 71, 28, 2831641, Sales]\n",
      "[Frank 72, 35, 273081, Marketing]\n",
      "[Alice 73, 44, 3852378, Finance]\n",
      "[Judy 74, 48, 2707739, Engineering]\n",
      "[Charlie 75, 44, 2660144, ]\n",
      "[Charlie 76, 44, 2308574, Engineering]\n",
      "[Alice 77, 27, 896617, Engineering]\n",
      "[Hannah 78, None, 4476569, Marketing]\n",
      "[Isaac 79, 36, 4495805, Engineering]\n",
      "[Bob 80, 46, 4704784, Sales]\n",
      "[Isaac 81, 28, 1600737, Finance]\n",
      "[Judy 82, 40, None, Finance]\n",
      "[Hannah 83, 48, 220203, ]\n",
      "[Frank 84, 24, 2808696, Engineering]\n",
      "[Diana 85, 50, 149248, Sales]\n",
      "[Diana 86, 30, 4905704, Engineering]\n",
      "[Frank 87, 22, 2458722, Finance]\n",
      "[Grace 88, 41, 2025045, ]\n",
      "[Frank 89, 23, 465751, Engineering]\n",
      "[Eve 90, 50, 2759543, Engineering]\n",
      "[Alice 91, None, 997196, Sales]\n",
      "[Alice 92, 28, 3205033, Marketing]\n",
      "[Judy 93, 38, 4288673, Sales]\n",
      "[Judy 94, None, 4421829, Finance]\n",
      "[Grace 95, 44, 1428395, Engineering]\n",
      "[Diana 96, 41, 2978765, Marketing]\n",
      "[Grace 97, 25, 1344386, Engineering]\n",
      "[Alice 98, None, 4039515, ]\n",
      "[Charlie 99, None, 4547808, ]\n",
      "[Isaac 100, 36, 2752815, Engineering]\n",
      "[Bob 101, 34, 1925325, Finance]\n"
     ]
    }
   ],
   "source": [
    "# call the function and view employee data\n",
    "employees = read_employee_from_csv(\"Employees-Dataset01.csv\")\n",
    "for employee in employees:\n",
    "    print(employee)"
   ]
  },
  {
   "cell_type": "markdown",
   "metadata": {},
   "source": [
    "#### **b. Filter by Age** <br>\n",
    "**i.\tHow many employees are over 30 years old?**"
   ]
  },
  {
   "cell_type": "code",
   "execution_count": 10,
   "metadata": {},
   "outputs": [
    {
     "name": "stdout",
     "output_type": "stream",
     "text": [
      "135 employees are above 30yrs of age.\n"
     ]
    }
   ],
   "source": [
    "ova_30 = [employee for employee in employees \n",
    "          if employee.age is not None \n",
    "          and employee.age > 30]\n",
    "\n",
    "print(f\"{len(ova_30)} employees are above 30yrs of age.\")"
   ]
  },
  {
   "cell_type": "markdown",
   "metadata": {},
   "source": [
    "**ii.\tWhich employees are younger than 25 years?**"
   ]
  },
  {
   "cell_type": "code",
   "execution_count": 11,
   "metadata": {},
   "outputs": [
    {
     "name": "stdout",
     "output_type": "stream",
     "text": [
      "Employees below 25 yrs:\n"
     ]
    },
    {
     "data": {
      "text/plain": [
       "[[Frank -22, 24, None, Marketing],\n",
       " [Grace -4, 22, 2897633, ],\n",
       " [Charlie 34, 24, 820924, Engineering],\n",
       " [Isaac 35, 24, 1101174, Marketing],\n",
       " [Isaac 48, 23, 3060254, Engineering],\n",
       " [Bob 62, 23, 2245289, Finance],\n",
       " [Frank 84, 24, 2808696, Engineering],\n",
       " [Frank 87, 22, 2458722, Finance],\n",
       " [Frank 89, 23, 465751, Engineering]]"
      ]
     },
     "execution_count": 11,
     "metadata": {},
     "output_type": "execute_result"
    }
   ],
   "source": [
    "print(\"Employees below 25 yrs:\")\n",
    "[employee for employee in employees \n",
    "    if employee.age is not None \n",
    "    and employee.age < 25]"
   ]
  },
  {
   "cell_type": "markdown",
   "metadata": {},
   "source": [
    "**iii. List the employees who are between 28 and 35 years old.**"
   ]
  },
  {
   "cell_type": "code",
   "execution_count": 12,
   "metadata": {},
   "outputs": [
    {
     "name": "stdout",
     "output_type": "stream",
     "text": [
      "Employees between 28-35 years old:\n"
     ]
    },
    {
     "data": {
      "text/plain": [
       "[[John Doe, 28, 5000000, Engineering],\n",
       " [Jane Smith, 32, 5500000, Marketing],\n",
       " [Michael Brown, 30, 6000000, Engineering],\n",
       " [Mary Moore, 35, 6200000, Engineering],\n",
       " [Laura Anderson, 29, 5100000, Sales],\n",
       " [Patricia Jackson, 33, 5900000, Marketing],\n",
       " [William Lewis, 31, 5300000, Engineering],\n",
       " [Barbara Walker, 34, 6100000, Marketing],\n",
       " [Charles Scott, 30, 6000000, Sales],\n",
       " [Angela Green, 29, 5200000, Finance],\n",
       " [Richard Adams, 28, 5400000, Engineering],\n",
       " [Jessica Nelson, 31, 5700000, Marketing],\n",
       " [Megan Roberts, 32, 5800000, Marketing],\n",
       " [Joshua Evans, 29, 5300000, Sales],\n",
       " [Ashley Turner, 35, 6000000, Finance],\n",
       " [Amanda Young, 33, 5900000, Marketing],\n",
       " [Edward Cooper, 31, 5500000, Sales],\n",
       " [Sophia Hall, 30, 5600000, Finance],\n",
       " [Isabella King, 29, 5100000, Finance],\n",
       " [Ava Carter, 28, 5300000, Marketing],\n",
       " [Alexander Rogers, 35, 6200000, Sales],\n",
       " [Charlotte Wright, 32, 5500000, Finance],\n",
       " [Henry Reed, 31, 5700000, Engineering],\n",
       " [Lily Ross, 30, 5400000, Marketing],\n",
       " [Jack Peterson, 29, 5100000, Sales],\n",
       " [Zoe Brooks, 34, 6000000, Finance],\n",
       " [Daniel Howard, 33, 5900000, Sales],\n",
       " [Harper Adams, 31, 5700000, Finance],\n",
       " [Isaac -44, 32, 1245294, Engineering],\n",
       " [Diana -42, 29, 3035591, Sales],\n",
       " [Judy -38, 30, 2383899, Engineering],\n",
       " [Alice -36, 31, 3532971, Marketing],\n",
       " [Frank -35, 35, None, Marketing],\n",
       " [Judy -32, 30, 2016201, Marketing],\n",
       " [Alice -31, 35, 4171861, ],\n",
       " [Alice -28, 32, 2336843, Sales],\n",
       " [Bob -26, 35, 1495519, Sales],\n",
       " [Isaac -18, 33, 1687415, Engineering],\n",
       " [Eve -7, 35, 1197784, Marketing],\n",
       " [Judy -6, 30, 2662569, Sales],\n",
       " [Hannah 1, 35, 4424109, Engineering],\n",
       " [Isaac 5, 29, 184861, ],\n",
       " [Bob 12, 31, None, Engineering],\n",
       " [Isaac 13, 35, 824844, Marketing],\n",
       " [Charlie 23, 35, 4872582, ],\n",
       " [Alice 25, 33, 1436477, Sales],\n",
       " [Eve 32, 34, 1140081, Sales],\n",
       " [Judy 41, 35, 3517637, Sales],\n",
       " [Charlie 42, 31, 4805211, Sales],\n",
       " [Isaac 45, 34, 3959073, Engineering],\n",
       " [Bob 50, 32, None, Marketing],\n",
       " [Judy 54, 29, 79511, Finance],\n",
       " [Isaac 55, 34, 2680827, Engineering],\n",
       " [Alice 57, 34, None, Sales],\n",
       " [Alice 65, 32, 4544799, Sales],\n",
       " [Judy 67, 34, 4324361, ],\n",
       " [Charlie 71, 28, 2831641, Sales],\n",
       " [Frank 72, 35, 273081, Marketing],\n",
       " [Isaac 81, 28, 1600737, Finance],\n",
       " [Diana 86, 30, 4905704, Engineering],\n",
       " [Alice 92, 28, 3205033, Marketing],\n",
       " [Bob 101, 34, 1925325, Finance]]"
      ]
     },
     "execution_count": 12,
     "metadata": {},
     "output_type": "execute_result"
    }
   ],
   "source": [
    "print(\"Employees between 28-35 years old:\")\n",
    "\n",
    "[employee \n",
    "    for employee in employees \n",
    "    if employee.age is not None \n",
    "    and employee.age >= 28 \n",
    "    and employee.age <= 35]"
   ]
  },
  {
   "cell_type": "markdown",
   "metadata": {},
   "source": [
    "**iv. Who are the employees that are exactly 40 years old?**"
   ]
  },
  {
   "cell_type": "code",
   "execution_count": 13,
   "metadata": {},
   "outputs": [
    {
     "name": "stdout",
     "output_type": "stream",
     "text": [
      "Below are employees exactly 40yrs:\n"
     ]
    },
    {
     "data": {
      "text/plain": [
       "[[James Wilson, 40, 7200000, Finance],\n",
       " [Kevin Perez, 40, 6500000, Engineering],\n",
       " [Jacob Morris, 40, 6700000, Engineering],\n",
       " [Chloe Coleman, 40, 6600000, Marketing],\n",
       " [Alice -48, 40, 2032806, Sales],\n",
       " [Diana -14, 40, 1787738, Engineering],\n",
       " [Charlie 30, 40, 2534602, Sales],\n",
       " [Judy 82, 40, None, Finance]]"
      ]
     },
     "execution_count": 13,
     "metadata": {},
     "output_type": "execute_result"
    }
   ],
   "source": [
    "print(\"Below are employees exactly 40yrs:\")\n",
    "[employee \n",
    "    for employee in employees \n",
    "    if employee.age == 40]"
   ]
  },
  {
   "cell_type": "markdown",
   "metadata": {},
   "source": [
    "#### **Filter by Salary**"
   ]
  },
  {
   "cell_type": "markdown",
   "metadata": {},
   "source": [
    "**v.\tWhich employees have a salary higher than ₦1,500,000 per month?**"
   ]
  },
  {
   "cell_type": "code",
   "execution_count": 14,
   "metadata": {},
   "outputs": [
    {
     "name": "stdout",
     "output_type": "stream",
     "text": [
      "Below are employees who earn above 1500000:\n"
     ]
    },
    {
     "data": {
      "text/plain": [
       "[[John Doe, 28, 5000000, Engineering],\n",
       " [Jane Smith, 32, 5500000, Marketing],\n",
       " [Emily Johnson, 45, 7000000, Finance],\n",
       " [Michael Brown, 30, 6000000, Engineering],\n",
       " [Linda Davis, 27, 4800000, Sales],\n",
       " [James Wilson, 40, 7200000, Finance],\n",
       " [Mary Moore, 35, 6200000, Engineering],\n",
       " [David Taylor, 50, 7500000, Marketing],\n",
       " [Laura Anderson, 29, 5100000, Sales],\n",
       " [Chris Thomas, 42, 6800000, Engineering],\n",
       " [Patricia Jackson, 33, 5900000, Marketing],\n",
       " [Robert Harris, 37, 6400000, Finance],\n",
       " [Jennifer Martin, 26, 4700000, Sales],\n",
       " [William Lewis, 31, 5300000, Engineering],\n",
       " [Barbara Walker, 34, 6100000, Marketing],\n",
       " [Daniel Hall, 38, 6500000, Finance],\n",
       " [Elizabeth Young, 39, 6700000, Sales],\n",
       " [Joseph Allen, 25, 4500000, Engineering],\n",
       " [Sarah King, 44, 6900000, Marketing],\n",
       " [Charles Scott, 30, 6000000, Sales],\n",
       " [Angela Green, 29, 5200000, Finance],\n",
       " [Richard Adams, 28, 5400000, Engineering],\n",
       " [Jessica Nelson, 31, 5700000, Marketing],\n",
       " [Matthew Carter, 45, 7000000, Sales],\n",
       " [Nancy Mitchell, 37, 6200000, Finance],\n",
       " [Kevin Perez, 40, 6500000, Engineering],\n",
       " [Megan Roberts, 32, 5800000, Marketing],\n",
       " [Joshua Evans, 29, 5300000, Sales],\n",
       " [Ashley Turner, 35, 6000000, Finance],\n",
       " [Brian Wright, 42, 6800000, Engineering],\n",
       " [Amanda Young, 33, 5900000, Marketing],\n",
       " [Edward Cooper, 31, 5500000, Sales],\n",
       " [Sophia Hall, 30, 5600000, Finance],\n",
       " [Jacob Morris, 40, 6700000, Engineering],\n",
       " [Olivia Lee, 25, 4900000, Marketing],\n",
       " [Samuel Allen, 36, 6400000, Sales],\n",
       " [Isabella King, 29, 5100000, Finance],\n",
       " [Ethan Mitchell, 38, 6900000, Engineering],\n",
       " [Ava Carter, 28, 5300000, Marketing],\n",
       " [Alexander Rogers, 35, 6200000, Sales],\n",
       " [Charlotte Wright, 32, 5500000, Finance],\n",
       " [Henry Reed, 31, 5700000, Engineering],\n",
       " [Lily Ross, 30, 5400000, Marketing],\n",
       " [Jack Peterson, 29, 5100000, Sales],\n",
       " [Zoe Brooks, 34, 6000000, Finance],\n",
       " [Mason Sanders, 37, 6300000, Engineering],\n",
       " [Chloe Coleman, 40, 6600000, Marketing],\n",
       " [Daniel Howard, 33, 5900000, Sales],\n",
       " [Harper Adams, 31, 5700000, Finance],\n",
       " [Alice -49, 48, 3501467, Sales],\n",
       " [Alice -48, 40, 2032806, Sales],\n",
       " [Charlie -47, 37, 2132539, Engineering],\n",
       " [Diana -45, 47, 4369685, Marketing],\n",
       " [Judy -43, 26, 3518187, Finance],\n",
       " [Diana -42, 29, 3035591, Sales],\n",
       " [Grace -40, 38, 4929931, Sales],\n",
       " [Judy -38, 30, 2383899, Engineering],\n",
       " [Alice -36, 31, 3532971, Marketing],\n",
       " [Bob -34, 48, 4805822, Engineering],\n",
       " [Judy -32, 30, 2016201, Marketing],\n",
       " [Alice -31, 35, 4171861, ],\n",
       " [Isaac -30, 38, 3948087, ],\n",
       " [Alice -29, 41, 2008358, Finance],\n",
       " [Alice -28, 32, 2336843, Sales],\n",
       " [Bob -25, 41, 2706486, Finance],\n",
       " [Bob -23, None, 1677722, Engineering],\n",
       " [Bob -21, 46, 3861301, Sales],\n",
       " [Frank -20, 39, 3276405, Engineering],\n",
       " [Isaac -18, 33, 1687415, Engineering],\n",
       " [Alice -16, 42, 4853380, Finance],\n",
       " [Alice -15, 26, 1728769, Engineering],\n",
       " [Diana -14, 40, 1787738, Engineering],\n",
       " [Grace -13, 42, 4414913, Finance],\n",
       " [Eve -11, None, 1634495, Sales],\n",
       " [Bob -10, 46, 2872599, Finance],\n",
       " [Alice -9, 50, 3060883, Engineering],\n",
       " [Eve -8, 26, 1979065, ],\n",
       " [Judy -6, 30, 2662569, Sales],\n",
       " [Hannah -5, 36, 2985308, Marketing],\n",
       " [Grace -4, 22, 2897633, ],\n",
       " [Frank -3, 42, 1636208, Engineering],\n",
       " [Alice -2, 45, 3383944, ],\n",
       " [Grace -1, 27, 1971925, Finance],\n",
       " [Hannah 1, 35, 4424109, Engineering],\n",
       " [Frank 2, 37, 2592665, Sales],\n",
       " [Charlie 6, 45, 4864284, Finance],\n",
       " [Bob 7, 41, 2688791, Engineering],\n",
       " [Charlie 8, 48, 1577020, Finance],\n",
       " [Frank 9, 39, 2231732, Marketing],\n",
       " [Judy 10, None, 3968491, Marketing],\n",
       " [Alice 11, 44, 2484095, Finance],\n",
       " [Frank 16, 44, 2337560, Finance],\n",
       " [Alice 17, None, 4564862, ],\n",
       " [Diana 19, 41, 4749298, Finance],\n",
       " [Hannah 20, 45, 2847588, Engineering],\n",
       " [Diana 21, 48, 3892426, Engineering],\n",
       " [Charlie 23, 35, 4872582, ],\n",
       " [Hannah 24, 38, 3323345, Marketing],\n",
       " [Judy 27, None, 1676923, Engineering],\n",
       " [Eve 28, 41, 4838504, Finance],\n",
       " [Hannah 29, 36, 4598716, Sales],\n",
       " [Charlie 30, 40, 2534602, Sales],\n",
       " [Hannah 31, 36, 2865054, Marketing],\n",
       " [Frank 38, None, 2763104, Engineering],\n",
       " [Judy 41, 35, 3517637, Sales],\n",
       " [Charlie 42, 31, 4805211, Sales],\n",
       " [Eve 43, None, 2073979, Engineering],\n",
       " [Grace 44, 41, 4125371, Finance],\n",
       " [Isaac 45, 34, 3959073, Engineering],\n",
       " [Grace 47, 42, 4345082, Marketing],\n",
       " [Isaac 48, 23, 3060254, Engineering],\n",
       " [Eve 49, 37, 4344360, Finance],\n",
       " [Eve 51, 42, 2038533, Engineering],\n",
       " [Eve 53, 27, 1808817, Engineering],\n",
       " [Isaac 55, 34, 2680827, Engineering],\n",
       " [Charlie 56, 38, 2243938, Finance],\n",
       " [Eve 58, 36, 3886476, Engineering],\n",
       " [Hannah 59, 26, 2122859, Sales],\n",
       " [Eve 60, 49, 3439548, Sales],\n",
       " [Bob 62, 23, 2245289, Finance],\n",
       " [Bob 63, 37, 2659076, Engineering],\n",
       " [Diana 64, 50, 2497535, Finance],\n",
       " [Alice 65, 32, 4544799, Sales],\n",
       " [Judy 67, 34, 4324361, ],\n",
       " [Bob 69, 39, 1876938, Marketing],\n",
       " [Grace 70, 44, 2539633, Marketing],\n",
       " [Charlie 71, 28, 2831641, Sales],\n",
       " [Alice 73, 44, 3852378, Finance],\n",
       " [Judy 74, 48, 2707739, Engineering],\n",
       " [Charlie 75, 44, 2660144, ],\n",
       " [Charlie 76, 44, 2308574, Engineering],\n",
       " [Hannah 78, None, 4476569, Marketing],\n",
       " [Isaac 79, 36, 4495805, Engineering],\n",
       " [Bob 80, 46, 4704784, Sales],\n",
       " [Isaac 81, 28, 1600737, Finance],\n",
       " [Frank 84, 24, 2808696, Engineering],\n",
       " [Diana 86, 30, 4905704, Engineering],\n",
       " [Frank 87, 22, 2458722, Finance],\n",
       " [Grace 88, 41, 2025045, ],\n",
       " [Eve 90, 50, 2759543, Engineering],\n",
       " [Alice 92, 28, 3205033, Marketing],\n",
       " [Judy 93, 38, 4288673, Sales],\n",
       " [Judy 94, None, 4421829, Finance],\n",
       " [Diana 96, 41, 2978765, Marketing],\n",
       " [Alice 98, None, 4039515, ],\n",
       " [Charlie 99, None, 4547808, ],\n",
       " [Isaac 100, 36, 2752815, Engineering],\n",
       " [Bob 101, 34, 1925325, Finance]]"
      ]
     },
     "execution_count": 14,
     "metadata": {},
     "output_type": "execute_result"
    }
   ],
   "source": [
    "print(\"Below are employees who earn above 1500000:\")\n",
    "[employee \n",
    "    for employee in employees \n",
    "    if employee.salary is not None \n",
    "    and employee.salary > 1500000]"
   ]
  },
  {
   "cell_type": "markdown",
   "metadata": {},
   "source": [
    "**vi. Can you find the employees earning less than ₦800,000 per month?**"
   ]
  },
  {
   "cell_type": "code",
   "execution_count": 15,
   "metadata": {},
   "outputs": [
    {
     "name": "stdout",
     "output_type": "stream",
     "text": [
      "Below are employees who earn below 800000:\n"
     ]
    },
    {
     "data": {
      "text/plain": [
       "[[Alice -24, 43, 342318, Sales],\n",
       " [Eve 0, None, 494658, Engineering],\n",
       " [Isaac 5, 29, 184861, ],\n",
       " [Charlie 33, 42, 511145, Sales],\n",
       " [Frank 36, 27, 496734, Finance],\n",
       " [Judy 37, 45, 169870, Sales],\n",
       " [Eve 40, None, 789253, Sales],\n",
       " [Isaac 52, 39, 460634, Sales],\n",
       " [Judy 54, 29, 79511, Finance],\n",
       " [Grace 61, 26, 100843, ],\n",
       " [Bob 66, 43, 718757, Sales],\n",
       " [Eve 68, 27, 581845, Sales],\n",
       " [Frank 72, 35, 273081, Marketing],\n",
       " [Hannah 83, 48, 220203, ],\n",
       " [Diana 85, 50, 149248, Sales],\n",
       " [Frank 89, 23, 465751, Engineering]]"
      ]
     },
     "execution_count": 15,
     "metadata": {},
     "output_type": "execute_result"
    }
   ],
   "source": [
    "print(\"Below are employees who earn below 800000:\")\n",
    "[employee \n",
    "    for employee in employees \n",
    "    if employee.salary is not None \n",
    "    and employee.salary < 800000]"
   ]
  },
  {
   "cell_type": "markdown",
   "metadata": {},
   "source": [
    "**vii. List the employees whose salaries are between ₦1,000,000 and ₦2,000,000 per month.**"
   ]
  },
  {
   "cell_type": "code",
   "execution_count": 16,
   "metadata": {},
   "outputs": [
    {
     "name": "stdout",
     "output_type": "stream",
     "text": [
      "Below are employees who earn between 1000000 and 2000000:\n"
     ]
    },
    {
     "data": {
      "text/plain": [
       "[[Grace -46, 37, 1301649, Marketing],\n",
       " [Isaac -44, 32, 1245294, Engineering],\n",
       " [Charlie -41, 25, 1153283, Sales],\n",
       " [Bob -39, 50, 1098982, Finance],\n",
       " [Bob -26, 35, 1495519, Sales],\n",
       " [Bob -23, None, 1677722, Engineering],\n",
       " [Eve -19, None, 1035627, Finance],\n",
       " [Isaac -18, 33, 1687415, Engineering],\n",
       " [Isaac -17, None, 1321984, Marketing],\n",
       " [Alice -15, 26, 1728769, Engineering],\n",
       " [Diana -14, 40, 1787738, Engineering],\n",
       " [Eve -12, 25, 1183812, Engineering],\n",
       " [Eve -11, None, 1634495, Sales],\n",
       " [Eve -8, 26, 1979065, ],\n",
       " [Eve -7, 35, 1197784, Marketing],\n",
       " [Frank -3, 42, 1636208, Engineering],\n",
       " [Grace -1, 27, 1971925, Finance],\n",
       " [Charlie 8, 48, 1577020, Finance],\n",
       " [Judy 14, 38, 1426708, Sales],\n",
       " [Diana 18, 48, 1150468, Marketing],\n",
       " [Alice 25, 33, 1436477, Sales],\n",
       " [Judy 27, None, 1676923, Engineering],\n",
       " [Eve 32, 34, 1140081, Sales],\n",
       " [Isaac 35, 24, 1101174, Marketing],\n",
       " [Frank 46, 50, 1432713, Sales],\n",
       " [Eve 53, 27, 1808817, Engineering],\n",
       " [Bob 69, 39, 1876938, Marketing],\n",
       " [Isaac 81, 28, 1600737, Finance],\n",
       " [Grace 95, 44, 1428395, Engineering],\n",
       " [Grace 97, 25, 1344386, Engineering],\n",
       " [Bob 101, 34, 1925325, Finance]]"
      ]
     },
     "execution_count": 16,
     "metadata": {},
     "output_type": "execute_result"
    }
   ],
   "source": [
    "print(\"Below are employees who earn between 1000000 and 2000000:\")\n",
    "\n",
    "[employee for employee in employees \n",
    "    if employee.salary is not None \n",
    "    and employee.salary >= 1000000\n",
    "    and employee.salary <= 2000000]"
   ]
  },
  {
   "cell_type": "markdown",
   "metadata": {},
   "source": [
    "**viii. Who earns exactly ₦1,200,000 per month?**"
   ]
  },
  {
   "cell_type": "code",
   "execution_count": 17,
   "metadata": {},
   "outputs": [
    {
     "name": "stdout",
     "output_type": "stream",
     "text": [
      "Below are employees who earn exactly 1200000:\n"
     ]
    },
    {
     "data": {
      "text/plain": [
       "[]"
      ]
     },
     "execution_count": 17,
     "metadata": {},
     "output_type": "execute_result"
    }
   ],
   "source": [
    "print(\"Below are employees who earn exactly 1200000:\")\n",
    "[employee\n",
    "    for employee in employees\n",
    "    if employee.salary == 1200000]"
   ]
  },
  {
   "cell_type": "markdown",
   "metadata": {},
   "source": [
    "#### **Combined Filters**"
   ]
  },
  {
   "cell_type": "markdown",
   "metadata": {},
   "source": [
    "**ix. Which employees over 30 years old earn more than ₦1,500,000 per month?**"
   ]
  },
  {
   "cell_type": "code",
   "execution_count": 18,
   "metadata": {},
   "outputs": [
    {
     "data": {
      "text/plain": [
       "[[Jane Smith, 32, 5500000, Marketing],\n",
       " [Emily Johnson, 45, 7000000, Finance],\n",
       " [James Wilson, 40, 7200000, Finance],\n",
       " [Mary Moore, 35, 6200000, Engineering],\n",
       " [David Taylor, 50, 7500000, Marketing],\n",
       " [Chris Thomas, 42, 6800000, Engineering],\n",
       " [Patricia Jackson, 33, 5900000, Marketing],\n",
       " [Robert Harris, 37, 6400000, Finance],\n",
       " [William Lewis, 31, 5300000, Engineering],\n",
       " [Barbara Walker, 34, 6100000, Marketing],\n",
       " [Daniel Hall, 38, 6500000, Finance],\n",
       " [Elizabeth Young, 39, 6700000, Sales],\n",
       " [Sarah King, 44, 6900000, Marketing],\n",
       " [Jessica Nelson, 31, 5700000, Marketing],\n",
       " [Matthew Carter, 45, 7000000, Sales],\n",
       " [Nancy Mitchell, 37, 6200000, Finance],\n",
       " [Kevin Perez, 40, 6500000, Engineering],\n",
       " [Megan Roberts, 32, 5800000, Marketing],\n",
       " [Ashley Turner, 35, 6000000, Finance],\n",
       " [Brian Wright, 42, 6800000, Engineering],\n",
       " [Amanda Young, 33, 5900000, Marketing],\n",
       " [Edward Cooper, 31, 5500000, Sales],\n",
       " [Jacob Morris, 40, 6700000, Engineering],\n",
       " [Samuel Allen, 36, 6400000, Sales],\n",
       " [Ethan Mitchell, 38, 6900000, Engineering],\n",
       " [Alexander Rogers, 35, 6200000, Sales],\n",
       " [Charlotte Wright, 32, 5500000, Finance],\n",
       " [Henry Reed, 31, 5700000, Engineering],\n",
       " [Zoe Brooks, 34, 6000000, Finance],\n",
       " [Mason Sanders, 37, 6300000, Engineering],\n",
       " [Chloe Coleman, 40, 6600000, Marketing],\n",
       " [Daniel Howard, 33, 5900000, Sales],\n",
       " [Harper Adams, 31, 5700000, Finance],\n",
       " [Alice -49, 48, 3501467, Sales],\n",
       " [Alice -48, 40, 2032806, Sales],\n",
       " [Charlie -47, 37, 2132539, Engineering],\n",
       " [Diana -45, 47, 4369685, Marketing],\n",
       " [Grace -40, 38, 4929931, Sales],\n",
       " [Alice -36, 31, 3532971, Marketing],\n",
       " [Bob -34, 48, 4805822, Engineering],\n",
       " [Alice -31, 35, 4171861, ],\n",
       " [Isaac -30, 38, 3948087, ],\n",
       " [Alice -29, 41, 2008358, Finance],\n",
       " [Alice -28, 32, 2336843, Sales],\n",
       " [Bob -25, 41, 2706486, Finance],\n",
       " [Bob -21, 46, 3861301, Sales],\n",
       " [Frank -20, 39, 3276405, Engineering],\n",
       " [Isaac -18, 33, 1687415, Engineering],\n",
       " [Alice -16, 42, 4853380, Finance],\n",
       " [Diana -14, 40, 1787738, Engineering],\n",
       " [Grace -13, 42, 4414913, Finance],\n",
       " [Bob -10, 46, 2872599, Finance],\n",
       " [Alice -9, 50, 3060883, Engineering],\n",
       " [Hannah -5, 36, 2985308, Marketing],\n",
       " [Frank -3, 42, 1636208, Engineering],\n",
       " [Alice -2, 45, 3383944, ],\n",
       " [Hannah 1, 35, 4424109, Engineering],\n",
       " [Frank 2, 37, 2592665, Sales],\n",
       " [Charlie 6, 45, 4864284, Finance],\n",
       " [Bob 7, 41, 2688791, Engineering],\n",
       " [Charlie 8, 48, 1577020, Finance],\n",
       " [Frank 9, 39, 2231732, Marketing],\n",
       " [Alice 11, 44, 2484095, Finance],\n",
       " [Frank 16, 44, 2337560, Finance],\n",
       " [Diana 19, 41, 4749298, Finance],\n",
       " [Hannah 20, 45, 2847588, Engineering],\n",
       " [Diana 21, 48, 3892426, Engineering],\n",
       " [Charlie 23, 35, 4872582, ],\n",
       " [Hannah 24, 38, 3323345, Marketing],\n",
       " [Eve 28, 41, 4838504, Finance],\n",
       " [Hannah 29, 36, 4598716, Sales],\n",
       " [Charlie 30, 40, 2534602, Sales],\n",
       " [Hannah 31, 36, 2865054, Marketing],\n",
       " [Judy 41, 35, 3517637, Sales],\n",
       " [Charlie 42, 31, 4805211, Sales],\n",
       " [Grace 44, 41, 4125371, Finance],\n",
       " [Isaac 45, 34, 3959073, Engineering],\n",
       " [Grace 47, 42, 4345082, Marketing],\n",
       " [Eve 49, 37, 4344360, Finance],\n",
       " [Eve 51, 42, 2038533, Engineering],\n",
       " [Isaac 55, 34, 2680827, Engineering],\n",
       " [Charlie 56, 38, 2243938, Finance],\n",
       " [Eve 58, 36, 3886476, Engineering],\n",
       " [Eve 60, 49, 3439548, Sales],\n",
       " [Bob 63, 37, 2659076, Engineering],\n",
       " [Diana 64, 50, 2497535, Finance],\n",
       " [Alice 65, 32, 4544799, Sales],\n",
       " [Judy 67, 34, 4324361, ],\n",
       " [Bob 69, 39, 1876938, Marketing],\n",
       " [Grace 70, 44, 2539633, Marketing],\n",
       " [Alice 73, 44, 3852378, Finance],\n",
       " [Judy 74, 48, 2707739, Engineering],\n",
       " [Charlie 75, 44, 2660144, ],\n",
       " [Charlie 76, 44, 2308574, Engineering],\n",
       " [Isaac 79, 36, 4495805, Engineering],\n",
       " [Bob 80, 46, 4704784, Sales],\n",
       " [Grace 88, 41, 2025045, ],\n",
       " [Eve 90, 50, 2759543, Engineering],\n",
       " [Judy 93, 38, 4288673, Sales],\n",
       " [Diana 96, 41, 2978765, Marketing],\n",
       " [Isaac 100, 36, 2752815, Engineering],\n",
       " [Bob 101, 34, 1925325, Finance]]"
      ]
     },
     "execution_count": 18,
     "metadata": {},
     "output_type": "execute_result"
    }
   ],
   "source": [
    "[employee \n",
    "    for employee in employees\n",
    "    if employee.age is not None and employee.age > 30 \n",
    "    and employee.salary is not None and employee.salary > 1500000]"
   ]
  },
  {
   "cell_type": "markdown",
   "metadata": {},
   "source": [
    "**x. Can you list the employees who are under 35, earn between ₦1,000,000 and ₦2,000,000 per month, and work in the Sales department?**"
   ]
  },
  {
   "cell_type": "code",
   "execution_count": 19,
   "metadata": {},
   "outputs": [
    {
     "data": {
      "text/plain": [
       "[[Charlie -41, 25, 1153283, Sales],\n",
       " [Alice 25, 33, 1436477, Sales],\n",
       " [Eve 32, 34, 1140081, Sales]]"
      ]
     },
     "execution_count": 19,
     "metadata": {},
     "output_type": "execute_result"
    }
   ],
   "source": [
    "[employee\n",
    "    for employee in employees\n",
    "    if employee.age is not None and employee.salary is not None\n",
    "    and employee.salary >= 1000000 and employee.salary <= 2000000\n",
    "    and employee.age < 35 and employee.department == \"Sales\" ]"
   ]
  },
  {
   "cell_type": "markdown",
   "metadata": {},
   "source": [
    "#### **Filter by Department and Position**"
   ]
  },
  {
   "cell_type": "markdown",
   "metadata": {},
   "source": [
    "**xi.\tWho are the employees working in the Engineering department?**"
   ]
  },
  {
   "cell_type": "code",
   "execution_count": 20,
   "metadata": {},
   "outputs": [
    {
     "data": {
      "text/plain": [
       "[[John Doe, 28, 5000000, Engineering],\n",
       " [Michael Brown, 30, 6000000, Engineering],\n",
       " [Mary Moore, 35, 6200000, Engineering],\n",
       " [Chris Thomas, 42, 6800000, Engineering],\n",
       " [William Lewis, 31, 5300000, Engineering],\n",
       " [Joseph Allen, 25, 4500000, Engineering],\n",
       " [Richard Adams, 28, 5400000, Engineering],\n",
       " [Kevin Perez, 40, 6500000, Engineering],\n",
       " [Brian Wright, 42, 6800000, Engineering],\n",
       " [Jacob Morris, 40, 6700000, Engineering],\n",
       " [Ethan Mitchell, 38, 6900000, Engineering],\n",
       " [Henry Reed, 31, 5700000, Engineering],\n",
       " [Mason Sanders, 37, 6300000, Engineering],\n",
       " [Charlie -47, 37, 2132539, Engineering],\n",
       " [Isaac -44, 32, 1245294, Engineering],\n",
       " [Judy -38, 30, 2383899, Engineering],\n",
       " [Bob -34, 48, 4805822, Engineering],\n",
       " [Judy -27, None, None, Engineering],\n",
       " [Bob -23, None, 1677722, Engineering],\n",
       " [Frank -20, 39, 3276405, Engineering],\n",
       " [Isaac -18, 33, 1687415, Engineering],\n",
       " [Alice -15, 26, 1728769, Engineering],\n",
       " [Diana -14, 40, 1787738, Engineering],\n",
       " [Eve -12, 25, 1183812, Engineering],\n",
       " [Alice -9, 50, 3060883, Engineering],\n",
       " [Frank -3, 42, 1636208, Engineering],\n",
       " [Eve 0, None, 494658, Engineering],\n",
       " [Hannah 1, 35, 4424109, Engineering],\n",
       " [Hannah 4, 42, 814121, Engineering],\n",
       " [Bob 7, 41, 2688791, Engineering],\n",
       " [Bob 12, 31, None, Engineering],\n",
       " [Hannah 15, 49, None, Engineering],\n",
       " [Hannah 20, 45, 2847588, Engineering],\n",
       " [Diana 21, 48, 3892426, Engineering],\n",
       " [Judy 27, None, 1676923, Engineering],\n",
       " [Charlie 34, 24, 820924, Engineering],\n",
       " [Frank 38, None, 2763104, Engineering],\n",
       " [Eve 43, None, 2073979, Engineering],\n",
       " [Isaac 45, 34, 3959073, Engineering],\n",
       " [Isaac 48, 23, 3060254, Engineering],\n",
       " [Eve 51, 42, 2038533, Engineering],\n",
       " [Eve 53, 27, 1808817, Engineering],\n",
       " [Isaac 55, 34, 2680827, Engineering],\n",
       " [Eve 58, 36, 3886476, Engineering],\n",
       " [Bob 63, 37, 2659076, Engineering],\n",
       " [Judy 74, 48, 2707739, Engineering],\n",
       " [Charlie 76, 44, 2308574, Engineering],\n",
       " [Alice 77, 27, 896617, Engineering],\n",
       " [Isaac 79, 36, 4495805, Engineering],\n",
       " [Frank 84, 24, 2808696, Engineering],\n",
       " [Diana 86, 30, 4905704, Engineering],\n",
       " [Frank 89, 23, 465751, Engineering],\n",
       " [Eve 90, 50, 2759543, Engineering],\n",
       " [Grace 95, 44, 1428395, Engineering],\n",
       " [Grace 97, 25, 1344386, Engineering],\n",
       " [Isaac 100, 36, 2752815, Engineering]]"
      ]
     },
     "execution_count": 20,
     "metadata": {},
     "output_type": "execute_result"
    }
   ],
   "source": [
    "[employee\n",
    "    for employee in employees\n",
    "    if employee.department == \"Engineering\"]"
   ]
  },
  {
   "cell_type": "markdown",
   "metadata": {},
   "source": [
    "**xii.\tList the employees who hold the title of Manager.**"
   ]
  },
  {
   "cell_type": "code",
   "execution_count": 21,
   "metadata": {},
   "outputs": [
    {
     "name": "stdout",
     "output_type": "stream",
     "text": [
      "{'Engineering': '[Name: Isaac 100, Salary: 2752815]', 'Marketing': '[Name: Diana 96, Salary: 2978765]', 'Finance': '[Name: Bob 101, Salary: 1925325]', 'Sales': '[Name: Judy 93, Salary: 4288673]', '': '[Name: Charlie 99, Salary: 4547808]'}\n"
     ]
    }
   ],
   "source": [
    "department_max_salary = {}\n",
    "\n",
    "for employee in employees:\n",
    "    if employee.salary is not None:\n",
    "        if employee.salary not in department_max_salary:\n",
    "            department_max_salary[employee.department] = f'[Name: {employee.name}, Salary: {employee.salary}]'\n",
    "        else:\n",
    "            department_max_salary[employee.department] = max(department_max_salary[employee.department], employee.salary)\n",
    "\n",
    "print(department_max_salary)"
   ]
  },
  {
   "cell_type": "markdown",
   "metadata": {},
   "source": [
    "**xiii.\tWhich employees are Managers in the Finance department?**"
   ]
  }
 ],
 "metadata": {
  "kernelspec": {
   "display_name": "Python 3",
   "language": "python",
   "name": "python3"
  },
  "language_info": {
   "codemirror_mode": {
    "name": "ipython",
    "version": 3
   },
   "file_extension": ".py",
   "mimetype": "text/x-python",
   "name": "python",
   "nbconvert_exporter": "python",
   "pygments_lexer": "ipython3",
   "version": "3.12.4"
  }
 },
 "nbformat": 4,
 "nbformat_minor": 2
}
